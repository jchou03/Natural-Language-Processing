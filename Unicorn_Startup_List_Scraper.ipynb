{
  "nbformat": 4,
  "nbformat_minor": 0,
  "metadata": {
    "colab": {
      "provenance": [],
      "collapsed_sections": [],
      "authorship_tag": "ABX9TyNTmqxI5PVmKVywtLx7zfLi",
      "include_colab_link": true
    },
    "kernelspec": {
      "name": "python3",
      "display_name": "Python 3"
    },
    "language_info": {
      "name": "python"
    }
  },
  "cells": [
    {
      "cell_type": "markdown",
      "metadata": {
        "id": "view-in-github",
        "colab_type": "text"
      },
      "source": [
        "<a href=\"https://colab.research.google.com/github/jchou03/Natural-Language-Processing/blob/main/Unicorn_Startup_List_Scraper.ipynb\" target=\"_parent\"><img src=\"https://colab.research.google.com/assets/colab-badge.svg\" alt=\"Open In Colab\"/></a>"
      ]
    },
    {
      "cell_type": "markdown",
      "source": [
        "**This is an application to scrape all of the unicorn startups from the website: https://www.hubspot.com/startups/unicorn-startups**\n",
        "\n",
        "Attributions: \n",
        "- https://www.learndatasci.com/tutorials/ultimate-guide-web-scraping-w-python-requests-and-beautifulsoup/"
      ],
      "metadata": {
        "id": "cvSZ8bzXLnNf"
      }
    },
    {
      "cell_type": "code",
      "source": [
        "pip install requests"
      ],
      "metadata": {
        "colab": {
          "base_uri": "https://localhost:8080/"
        },
        "id": "mBkxrPB_Mu8U",
        "outputId": "5a176d5d-60a2-4108-ed05-5d3128807fba"
      },
      "execution_count": 4,
      "outputs": [
        {
          "output_type": "stream",
          "name": "stdout",
          "text": [
            "Looking in indexes: https://pypi.org/simple, https://us-python.pkg.dev/colab-wheels/public/simple/\n",
            "Requirement already satisfied: requests in /usr/local/lib/python3.7/dist-packages (2.23.0)\n",
            "Requirement already satisfied: idna<3,>=2.5 in /usr/local/lib/python3.7/dist-packages (from requests) (2.10)\n",
            "Requirement already satisfied: chardet<4,>=3.0.2 in /usr/local/lib/python3.7/dist-packages (from requests) (3.0.4)\n",
            "Requirement already satisfied: urllib3!=1.25.0,!=1.25.1,<1.26,>=1.21.1 in /usr/local/lib/python3.7/dist-packages (from requests) (1.24.3)\n",
            "Requirement already satisfied: certifi>=2017.4.17 in /usr/local/lib/python3.7/dist-packages (from requests) (2022.6.15)\n"
          ]
        }
      ]
    },
    {
      "cell_type": "code",
      "execution_count": 30,
      "metadata": {
        "id": "8l-3gZyOLdrK"
      },
      "outputs": [],
      "source": [
        "# imports\n",
        "import requests\n",
        "from bs4 import BeautifulSoup"
      ]
    },
    {
      "cell_type": "code",
      "source": [
        "# define a saving function\n",
        "def save_html(html, path):\n",
        "    with open(path, 'wb') as f:\n",
        "        f.write(html)\n",
        "\n",
        "# get the html\n",
        "url = \"https://www.hubspot.com/startups/unicorn-startups\"\n",
        "r = requests.get(url)\n",
        "soup = BeautifulSoup(r.content, 'html.parser')"
      ],
      "metadata": {
        "id": "jsz1rOzHMPwN"
      },
      "execution_count": 31,
      "outputs": []
    },
    {
      "cell_type": "code",
      "source": [
        "# define functions to get all the fields we want, and save it to a dictionary\n",
        "\n",
        "def get_companies(soup):\n",
        "  c_info_dict = {}\n",
        "  companies = soup.select('.result_tr')\n",
        "  # print(companies)\n",
        "  for company in companies:\n",
        "    tags = company.select('td')\n",
        "    # print(tags)\n",
        "    count = 0\n",
        "    info = []\n",
        "    for tag in tags:\n",
        "      if tag.get('sorttable_customkey') == None:\n",
        "        info.append(tag.text)\n",
        "        count += 1\n",
        "      if count >= 2:\n",
        "        break\n",
        "    # print(info)\n",
        "    c_info_dict[company.th.text.strip()] = info\n",
        "  return c_info_dict\n",
        "\n",
        "companies = get_companies(soup)\n",
        "# print(companies)\n",
        "\n",
        "# for company in companies:\n",
        "#   print(companies[company][1])\n",
        "#   break\n"
      ],
      "metadata": {
        "id": "wkNqJq5MNzy-"
      },
      "execution_count": 32,
      "outputs": []
    },
    {
      "cell_type": "code",
      "source": [
        "# save all the company info to a csv file\n",
        "import csv\n",
        "\n",
        "pathToSave = \"unicorn.csv\"\n",
        "\n",
        "with open(pathToSave, 'w', newline='') as csvfile:\n",
        "  fieldnames = ['company_name', 'region', 'industry']\n",
        "  writer = csv.DictWriter(csvfile, fieldnames = fieldnames)\n",
        "  writer.writeheader()\n",
        "  for company in companies:\n",
        "    writer.writerow({'company_name':company, 'region':companies[company][0], 'industry':companies[company][1]})"
      ],
      "metadata": {
        "id": "WU4aFUdAQ1ZP"
      },
      "execution_count": 33,
      "outputs": []
    },
    {
      "cell_type": "code",
      "source": [],
      "metadata": {
        "id": "r_J7sEnxU2Uy"
      },
      "execution_count": null,
      "outputs": []
    }
  ]
}