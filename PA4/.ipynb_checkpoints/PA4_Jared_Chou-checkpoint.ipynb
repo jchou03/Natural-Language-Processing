{
 "cells": [
  {
   "cell_type": "markdown",
   "metadata": {
    "colab_type": "text",
    "id": "view-in-github"
   },
   "source": [
    "<a href=\"https://colab.research.google.com/github/jchou03/Natural-Language-Processing/blob/main/PA4_Jared_Chou.ipynb\" target=\"_parent\"><img src=\"https://colab.research.google.com/assets/colab-badge.svg\" alt=\"Open In Colab\"/></a>"
   ]
  },
  {
   "cell_type": "markdown",
   "metadata": {
    "id": "jX7JyTtVUJ75"
   },
   "source": [
    "# Programming Assignment 4: \n",
    "\n",
    "**The data files are zipped and uploaded in Piazza \"Resources\"->\"Homeworks\"->pa4.zip .**\n",
    "\n",
    "**Part 1: Twitter Sentiment Classification with sklearn**\n",
    "\n",
    "The file: sentiment-train.csv contains 60k tweets annotated by their sentiments (0: negative, 1: positive), which is a sample\n",
    "of a very large sentiment corpus that has been weakly annotated based on the emojis contained in the tweets. File sentiment-test.csv contains the testing data organized in the same format as the training data file.\n",
    "\n",
    "**Task 1 & 2:**\n",
    "Using [sklearn](https://scikit-learn.org/stable/index.html) (you should search for the relevant functions to see how to use them in your code), \n",
    "\n",
    "1. Train a Multinomial Naive Bayes classifier (with default parameters) to predict sentiment on the\n",
    "training data, featurizing the data using CountVectorizer (also in sklearn). Use the default parameters of CountVectorizer\n",
    "and max features = 1000 (to limit the number of bag-of-word features to only the top 1k words based on frequency across\n",
    "the corpus) and also ignores stop words. You should learn more about CountVectorizer parameters and usage [here](https://scikit-learn.org/stable/modules/generated/sklearn.feature_extraction.text.CountVectorizer.html). Report the accuracy of the trained\n",
    "classifier on the test set. \n",
    "\n",
    "2. Use CountVectorizer with binary counts (set binary flag = True), with other parameters same as before. Using\n",
    "these features, train MultinomialNB classifier with default parameters and report the accuracy of the trained classifier\n",
    "on the test set. Does using binary counts as features improve the classification accuracy?\n",
    "\n",
    "**Hint:** we strongly recommend using [Pandas](https://pandas.pydata.org/docs/getting_started/intro_tutorials/index.html) for reading .csv files and manipulating them in this assignment. "
   ]
  },
  {
   "cell_type": "code",
   "execution_count": 140,
   "metadata": {
    "colab": {
     "base_uri": "https://localhost:8080/"
    },
    "id": "IliBFmDzhMAX",
    "outputId": "9921f861-4920-43a2-9544-1fe9e90b23cf"
   },
   "outputs": [
    {
     "name": "stdout",
     "output_type": "stream",
     "text": [
      "MNB model score is: 0.7827298050139275\n",
      "Binary MNB model score is: 0.7743732590529248\n"
     ]
    }
   ],
   "source": [
    "from sklearn.feature_extraction.text import CountVectorizer\n",
    "from sklearn.naive_bayes import MultinomialNB\n",
    "import pandas as pd\n",
    "\n",
    "def loadDataFromCSV(filePath):\n",
    "  df = pd.read_csv(filePath)\n",
    "  y = df['sentiment']\n",
    "  x = df['text']\n",
    "  return df,x,y\n",
    "# Load the csv data\n",
    "df,xTrain,yTrain = loadDataFromCSV('sentiment-train.csv')\n",
    "_,xTest,yTest = loadDataFromCSV('sentiment-test.csv')\n",
    "\n",
    "# Train a Multinomial Naive Bayes classifier on sentiment-train.csv\n",
    "# vectorizer = CountVectorizer(max_features=1000)\n",
    "# X = vectorizer.fit_transform(df.text)\n",
    "# CountVectorizer(input=df, max_features=1000)\n",
    "\n",
    "# print(vectorizer.vocabulary_)\n",
    "\n",
    "# print(X.toarray())\n",
    "# useful functions: transform, fit, \n",
    "\n",
    "# steps:\n",
    "# load data from csv\n",
    "# construct toekn count matrix (countvectorizer)\n",
    "def targetCountMatrix(vectorizer, target):\n",
    "  countMat = vectorizer.transform(target)\n",
    "  return countMat\n",
    "\n",
    "def constructCountMatrix(corpus, target, maxFeatures):\n",
    "  vectorizer = CountVectorizer(max_features=maxFeatures, stop_words='english')\n",
    "  vectorizer.fit(corpus) # create a count matrix with the vocabulary of the corpus (each column)\n",
    "  # countMat = vectorizer.transform(target) # apply the documents in target into the count matrix, \n",
    "  return targetCountMatrix(vectorizer, target)\n",
    "\n",
    "def constructCountMatrixBinary(corpus, target, maxFeatures):\n",
    "  vectorizer = CountVectorizer(max_features=maxFeatures, stop_words='english', binary=True)\n",
    "  vectorizer.fit(corpus)\n",
    "  return targetCountMatrix(vectorizer, target)\n",
    "\n",
    "# task 1 (binary flag not set)\n",
    "xTrainCountMat = constructCountMatrix(xTrain, xTrain, 1000)\n",
    "xTestCountMat = constructCountMatrix(xTrain, xTest, 1000)\n",
    "\n",
    "# task 2 (binary flag set)\n",
    "b_xTrainCountMat = constructCountMatrixBinary(xTrain, xTrain, 1000)\n",
    "b_xTestCountMat = constructCountMatrixBinary(xTrain, xTest, 1000)\n",
    "\n",
    "# print(xTrainCountMat.toarray())\n",
    "# train mnb model with count matrix\n",
    "def trainMultiNB(x,y):\n",
    "  clf = MultinomialNB()\n",
    "  clf.fit(x, y)\n",
    "  return clf\n",
    "\n",
    "mnb = trainMultiNB(xTrainCountMat, yTrain)\n",
    "b_mnb = trainMultiNB(b_xTrainCountMat, yTrain)\n",
    "# test model & compute accuracy score\n",
    "print(\"MNB model score is: \" + str(mnb.score(xTestCountMat, yTest)))\n",
    "print(\"Binary MNB model score is: \" + str(b_mnb.score(b_xTestCountMat, yTest)))\n"
   ]
  },
  {
   "cell_type": "code",
   "execution_count": 141,
   "metadata": {
    "id": "4JVA2ZkligvU"
   },
   "outputs": [],
   "source": [
    "# The results should look similar to the one below:"
   ]
  },
  {
   "cell_type": "markdown",
   "metadata": {
    "id": "wavO0YAmWi__"
   },
   "source": [
    "**Tasks 3 & 4:**\n",
    "3. Using sklearn, train a logistic regression classifier on your training data, using CountVectorizer to featurize your\n",
    "data (with the same parameters as in task 1). Report the accuracy of the trained classifier on the test set.\n",
    "\n",
    "4. Train a logistic regression classifier as before, using binary CountVectorizer to featurize your data. Report the\n",
    "accuracy of the trained classifier on the test set."
   ]
  },
  {
   "cell_type": "code",
   "execution_count": 142,
   "metadata": {
    "colab": {
     "base_uri": "https://localhost:8080/"
    },
    "id": "BB5isQ9A4nWq",
    "outputId": "3e6eb81a-609f-4043-a5f4-7d582afe2525"
   },
   "outputs": [
    {
     "name": "stdout",
     "output_type": "stream",
     "text": [
      "logistic regression model score is: 0.766016713091922\n",
      "binary logistic regression model score is: 0.7688022284122563\n"
     ]
    }
   ],
   "source": [
    "from sklearn.linear_model import LogisticRegression\n",
    "\n",
    "# use CountVectorizer to featurize data\n",
    "# count matrices from previous cell work\n",
    "\n",
    "# train logistic regression classifer \n",
    "def trainLogisticRegression(x, y):\n",
    "  clf = LogisticRegression(random_state=0)\n",
    "  clf.fit(x, y)\n",
    "  return clf\n",
    "\n",
    "# score\n",
    "logReg = trainLogisticRegression(xTrainCountMat, yTrain)\n",
    "print(\"logistic regression model score is: \" + str(logReg.score(xTestCountMat, yTest)))\n",
    "\n",
    "b_logReg = trainLogisticRegression(b_xTrainCountMat, yTrain)\n",
    "print(\"binary logistic regression model score is: \" + str(b_logReg.score(b_xTestCountMat, yTest)))\n"
   ]
  },
  {
   "cell_type": "code",
   "execution_count": 143,
   "metadata": {
    "id": "zRZqEwau2IEi"
   },
   "outputs": [],
   "source": [
    "# The results should look similar to the one below:"
   ]
  },
  {
   "cell_type": "markdown",
   "metadata": {
    "id": "SynJJotWW8Iq"
   },
   "source": [
    "**Task 5:** After performing the above experiments, which feature extractor and statistical model combination is good for your\n",
    "dataset? Note that this step is called model selection. Read online about the terms “model selection”\n",
    "and “development set” a.k.a. “validation set” and describe if it is okay to do model selection on the test set.\n",
    "\n",
    "**Your answer here:**\n",
    "I believe that the best feature extractor and statistical model combination is good for the dataset is using normal Multinomial Naive Bayes model due to its accuracy is the highest out of all 4 models by quite a large margin. \n",
    "\n",
    "It is not okay to do model selection on the test set. This is because the test set should be only used when doing the final test of the model, not during model selection. The development/validation set is a subset of the training set that can be used to assist in verification during training or model selection, but the test set must only be used for final testing.\n",
    "\n",
    "**Tasks 6 & 7:**\n",
    "6. Conduct 10-fold cross validation experiments on your training data: training a Multinomial NB classifier\n",
    "with CountVectorizer and different max features (= 1000, 2000, 3000, or 4000) with and without binary counts.\n",
    "Report the average accuracies of these different max features and binary/not binary across folds.\n",
    "\n",
    "7. Select the combination of max features value and binary/not binary count choice that has the highest average\n",
    "accuracy in your cross-validation experiments and train a Multinomial NB classifier on your whole training data\n",
    "using this parameter to featurize your data. Report the accuracy of this trained classifier on the test set.\n",
    "\n",
    "**Hint:** Consider Stratified K-Folds for task 6."
   ]
  },
  {
   "cell_type": "code",
   "execution_count": 144,
   "metadata": {
    "colab": {
     "base_uri": "https://localhost:8080/"
    },
    "id": "QqTrSMVCAcyG",
    "outputId": "a68a164c-9e33-4f56-8a4c-f8d0f1d990e1"
   },
   "outputs": [
    {
     "name": "stdout",
     "output_type": "stream",
     "text": [
      "Accuracy with 1000 features, binary features is False:71.88%\n",
      "Accuracy with 2000 features, binary features is False:73.08%\n",
      "Accuracy with 3000 features, binary features is False:73.39%\n",
      "Accuracy with 4000 features, binary features is False:73.54%\n",
      "Accuracy with 1000 features, binary features is True:71.89%\n",
      "Accuracy with 2000 features, binary features is True:73.05%\n",
      "Accuracy with 3000 features, binary features is True:73.45%\n",
      "Accuracy with 4000 features, binary features is True:73.62%\n"
     ]
    }
   ],
   "source": [
    "from sklearn.model_selection import StratifiedKFold\n",
    "from statistics import mean\n",
    "# Task 6: 10-fold cross validation experiments\n",
    "skf = StratifiedKFold(n_splits=10)\n",
    "skf.get_n_splits(xTestCountMat, yTest)\n",
    "\n",
    "for b in [False, True]:\n",
    "  for n in [1000, 2000, 3000, 4000]:\n",
    "    scores_for_avg = []\n",
    "    xTrainCountMat = constructCountMatrix(xTrain, xTrain, n)\n",
    "    xTestCountMat = constructCountMatrix(xTrain, xTest, n)\n",
    "    if b:\n",
    "      xTrainCountMat = constructCountMatrixBinary(xTrain, xTrain, n)\n",
    "      xTestCountMat = constructCountMatrixBinary(xTrain, xTest, n)\n",
    "      \n",
    "    for train_index, test_index in skf.split(xTrainCountMat, yTrain):\n",
    "      X_train, X_test = xTrainCountMat[train_index], xTrainCountMat[test_index]\n",
    "      y_train, y_test = yTrain[train_index], yTrain[test_index]\n",
    "      mnb = trainMultiNB(X_train, y_train)\n",
    "      scores_for_avg.append(mnb.score(X_test, y_test))\n",
    "    print(\"Accuracy with \" + str(n) + \" features, binary features is \" + str(b) \\\n",
    "          + \":\" + str(round(mean(scores_for_avg)*100, 2)) + \"%\")"
   ]
  },
  {
   "cell_type": "code",
   "execution_count": 145,
   "metadata": {
    "colab": {
     "base_uri": "https://localhost:8080/"
    },
    "id": "6yoryGnBIgHI",
    "outputId": "3545b9c5-7cf2-45c9-ffb8-b2dbbe94a2bb"
   },
   "outputs": [
    {
     "name": "stdout",
     "output_type": "stream",
     "text": [
      "the best binary strategy is to set to True, the best max features is 4000\n",
      "the Accuracy of the best hyper-parameter combination trained classifier is: 77.16%\n"
     ]
    }
   ],
   "source": [
    "# Task 7: training multinomial naive bayes with binary feature\n",
    "print(\"the best binary strategy is to set to True, the best max features is 4000\")\n",
    "X_train = constructCountMatrixBinary(xTrain, xTrain, 4000)\n",
    "X_test = constructCountMatrixBinary(xTrain, xTest, 4000)\n",
    "b_mnb = trainMultiNB(X_train, yTrain)\n",
    "print(\"the Accuracy of the best hyper-parameter combination trained classifier \\\n",
    "is: \" + str(round(b_mnb.score(X_test, yTest) * 100,2)) + \"%\")\n"
   ]
  },
  {
   "cell_type": "code",
   "execution_count": 146,
   "metadata": {
    "id": "qecakrJKkt5M"
   },
   "outputs": [],
   "source": [
    "# Your results show look similar to this:"
   ]
  },
  {
   "cell_type": "markdown",
   "metadata": {
    "id": "0uJAC9DlX8ym"
   },
   "source": [
    "**Tasks 8 & 9 & 10:**\n",
    "\n",
    "**Note: vector models and word2vec will be presented in lecture next week (10/11 and 10/13).**\n",
    "\n",
    "8. Use [gensim](https://radimrehurek.com/gensim/models/word2vec.html) library to learn 300-dimensional word2vec representations from the tokenized tweets (you can use\n",
    "Spacy for tokenizing tweets) in your training data (you can use default parameters).\n",
    "9. Given the learned word2vec representations, construct a vector representation of each tweet as the average of all\n",
    "the word vectors in the tweet. Ignore words that do not have vector representations – since by default the gensim\n",
    "word2vec model only learns vector representations for words that appear at least 5 times across the training set.\n",
    "10. Train a logistic regression classifier using the above vector representation of tweets as your features. Report\n",
    "the accuracy of the trained classifier on the test set. "
   ]
  },
  {
   "cell_type": "code",
   "execution_count": 174,
   "metadata": {
    "colab": {
     "base_uri": "https://localhost:8080/",
     "height": 201
    },
    "id": "e6OXUWX5uEvq",
    "outputId": "e074e1d6-982e-468b-af9a-bea7d635c2d3"
   },
   "outputs": [],
   "source": [
    "import spacy\n",
    "\n",
    "# tokenize the tweets\n",
    "nlp = spacy.load(\"en_core_web_sm\")\n",
    "# for doc in xTrain:\n",
    "#   tweet = nlp(doc)\n",
    "#   for sent in tweet.sents:\n",
    "#     sentance = []\n",
    "#     for token in sent:\n",
    "#       sentance.append(token.text)\n",
    "#     tokenized_tweets.append(sentance)\n",
    "\n",
    "def tokenize (docs):\n",
    "    tokenized = []\n",
    "    for doc in docs:\n",
    "        tweet = nlp(doc)\n",
    "        tweet_tokens = []\n",
    "        # tokenized_tweets.append(tweet.text)\n",
    "        for sents in tweet.sents:\n",
    "          for token in sents:\n",
    "            tweet_tokens.append(token.text)\n",
    "        tokenized.append(tweet_tokens)\n",
    "    return tokenized\n",
    "\n",
    "tokenized_tweets = tokenize(xTrain)\n",
    "# print(xTrain)\n",
    "# print(tokenized_tweets)"
   ]
  },
  {
   "cell_type": "code",
   "execution_count": 148,
   "metadata": {
    "id": "l040gTJGDiLE"
   },
   "outputs": [
    {
     "name": "stdout",
     "output_type": "stream",
     "text": [
      "Requirement already satisfied: gensim==4.2.0 in c:\\users\\jared\\anaconda3\\lib\\site-packages (4.2.0)\n",
      "Requirement already satisfied: Cython==0.29.28 in c:\\users\\jared\\anaconda3\\lib\\site-packages (from gensim==4.2.0) (0.29.28)\n",
      "Requirement already satisfied: numpy>=1.17.0 in c:\\users\\jared\\anaconda3\\lib\\site-packages (from gensim==4.2.0) (1.20.1)\n",
      "Requirement already satisfied: scipy>=0.18.1 in c:\\users\\jared\\anaconda3\\lib\\site-packages (from gensim==4.2.0) (1.6.2)\n",
      "Requirement already satisfied: smart-open>=1.8.1 in c:\\users\\jared\\anaconda3\\lib\\site-packages (from gensim==4.2.0) (5.2.1)\n"
     ]
    }
   ],
   "source": [
    "!pip install gensim==4.2.0"
   ]
  },
  {
   "cell_type": "code",
   "execution_count": 184,
   "metadata": {
    "colab": {
     "base_uri": "https://localhost:8080/"
    },
    "id": "3S5j7kpc_cAl",
    "outputId": "4426f5ec-db39-4c74-9bdc-0233e9647e6d"
   },
   "outputs": [
    {
     "name": "stdout",
     "output_type": "stream",
     "text": [
      "[['I', 'LOVE', '@Health4UandPets', 'u', 'guys', 'r', 'the', 'best', '!', '!'], ['i', 'm', 'meeting', 'up', 'with', 'one', 'of', 'my', 'besties', 'tonight', '!', 'Ca', 'nt', 'wait', '!', '!', ' ', '-', 'GIRL', 'TALK', '!', '!'], ['@DaRealSunisaKim', 'Thanks', 'for', 'the', 'Twitter', 'add', ',', 'Sunisa', '!', 'I', 'got', 'to', 'meet', 'you', 'once', 'at', 'a', 'HIN', 'show', 'here', 'in', 'the', 'DC', 'area', 'and', 'you', 'were', 'a', 'sweetheart', '.'], ['Being', 'sick', 'can', 'be', 'really', 'cheap', 'when', 'it', 'hurts', 'too', 'much', 'to', 'eat', 'real', 'food', ' ', 'Plus', ',', 'your', 'friends', 'make', 'you', 'soup'], ['@LovesBrooklyn2', 'he', 'has', 'that', 'effect', 'on', 'everyone'], ['@ProductOfFear', 'You', 'can', 'tell', 'him', 'that', 'I', 'just', 'burst', 'out', 'laughing', 'really', 'loud', 'because', 'of', 'that', ' ', 'Thanks', 'for', 'making', 'me', 'come', 'out', 'of', 'my', 'sulk', '!'], ['@r_keith_hill', 'Thans', 'for', 'your', 'response', '.', 'Ihad', 'already', 'find', 'this', 'answer'], ['@KeepinUpWKris', 'I', 'am', 'so', 'jealous', ',', 'hope', 'you', 'had', 'a', 'great', 'time', 'in', 'vegas', '!', 'how', 'did', 'you', 'like', 'the', 'ACM', \"'s\", '?', '!', 'LOVE', 'YOUR', 'SHOW', '!', '!'], ['@tommcfly', 'ah', ',', 'congrats', 'mr', 'fletcher', 'for', 'finally', 'joining', 'twitter'], ['@e4VoIP', 'I', 'RESPONDED', ' ', 'Stupid', 'cat', 'is', 'helping', 'me', 'type', '.', 'Forgive', 'errors']]\n",
      "Word2Vec<vocab=9181, vector_size=300, alpha=0.025>\n"
     ]
    }
   ],
   "source": [
    "# Task 8 learn 300-dimensional word2vec representations\n",
    "from gensim.models import Word2Vec\n",
    "import gensim\n",
    "\n",
    "print(tokenized_tweets[:10])\n",
    "model = gensim.models.Word2Vec(tokenized_tweets, window=5, min_count=5, vector_size=300)\n",
    "print(model)\n"
   ]
  },
  {
   "cell_type": "code",
   "execution_count": null,
   "metadata": {
    "colab": {
     "base_uri": "https://localhost:8080/"
    },
    "id": "t9vINoAoD_sJ",
    "outputId": "696a2225-aa23-4308-a9db-1208cc88d5cd"
   },
   "outputs": [],
   "source": [
    "type(model.wv)"
   ]
  },
  {
   "cell_type": "code",
   "execution_count": null,
   "metadata": {
    "colab": {
     "base_uri": "https://localhost:8080/"
    },
    "id": "Hxy3dDFTDZ_Y",
    "outputId": "349aa10b-66a1-4ae8-f54e-d0efeb652c84"
   },
   "outputs": [
    {
     "name": "stdout",
     "output_type": "stream",
     "text": [
      "300\n",
      "9181\n"
     ]
    }
   ],
   "source": [
    "# print(model.wv[0])\n",
    "print(len(model.wv[0]))\n",
    "print(len(model.wv))"
   ]
  },
  {
   "cell_type": "code",
   "execution_count": null,
   "metadata": {
    "colab": {
     "base_uri": "https://localhost:8080/"
    },
    "id": "-h3bf-E1Pb14",
    "outputId": "1ecc8a09-0d9e-4fa4-edfc-983a25d99530"
   },
   "outputs": [],
   "source": [
    "# Task 9 construct a vector representation of each tweet as the average of all the word vectors in the tweet\n",
    "# print(model.wv['and'])\n",
    "\n",
    "def calculate_avg_vector(model, tweet):\n",
    "  avg_vec = [0] * 300\n",
    "  count = 0\n",
    "  for sent in tweet.sents:\n",
    "    for token in sent:\n",
    "      if(model.wv.__contains__(token.text)):\n",
    "        count += 1\n",
    "        word_vec = model.wv[token.text]\n",
    "        for i in range(300):\n",
    "          avg_vec[i] += word_vec[i]\n",
    "  for i, val in enumerate(avg_vec):\n",
    "    if(count != 0):\n",
    "      avg_vec[i] = val/count\n",
    "  return avg_vec\n",
    "\n",
    "avg_vector_for_tweets = []\n",
    "for doc in xTrain:\n",
    "  tweet = nlp(doc)\n",
    "  avg_vector_for_tweets.append(calculate_avg_vector(model, tweet))\n",
    "\n",
    "print(avg_vector_for_tweets[:5])\n",
    "\n",
    "# average of all the vectors\n",
    "# avg_vector = []\n",
    "# for doc in enumerate(model.wv):\n",
    "#   for i, vec in enumerate(doc):\n",
    "#     print(vec)\n"
   ]
  },
  {
   "cell_type": "code",
   "execution_count": null,
   "metadata": {
    "colab": {
     "base_uri": "https://localhost:8080/"
    },
    "id": "cUcBMd8TWXJH",
    "outputId": "36c9cf70-a746-4558-e0ad-bd0c9ab9d65d"
   },
   "outputs": [],
   "source": [
    "# convert the testing data into an average word2vec model\n",
    "\n",
    "test_model = gensim.models.Word2Vec(tokenize(xTest), window=5, min_count=2, vector_size=300)\n",
    "print(model)\n",
    "test_vectors = []\n",
    "for doc in xTest:\n",
    "  tweet = nlp(doc)\n",
    "  test_vectors.append(calculate_avg_vector(model, tweet))"
   ]
  },
  {
   "cell_type": "code",
   "execution_count": null,
   "metadata": {},
   "outputs": [],
   "source": []
  },
  {
   "cell_type": "code",
   "execution_count": null,
   "metadata": {
    "colab": {
     "base_uri": "https://localhost:8080/"
    },
    "id": "fWt-3DXMR4-M",
    "outputId": "1a1997d5-a74b-4de3-df07-15f4557da0c4"
   },
   "outputs": [],
   "source": [
    "# Task 10 Train logistic regression model on average tweet vectors\n",
    "\n",
    "logReg = trainLogisticRegression(avg_vector_for_tweets, yTrain)\n",
    "print(\"logistic regression model score is: \" + str(logReg.score(test_vectors, yTest)))"
   ]
  },
  {
   "cell_type": "code",
   "execution_count": null,
   "metadata": {
    "id": "EQlsBhBGR4Jz"
   },
   "outputs": [],
   "source": []
  },
  {
   "cell_type": "markdown",
   "metadata": {
    "id": "B6PTjNN0bFj0"
   },
   "source": [
    "**Question:** Does dense feature representation improve the accuracy of\n",
    "your logistic regression classifier?\n",
    "\n",
    "**Your answer here:**\n",
    "Dense feature representation doesn't improve the accuracy of the logistic regression classifier in this case. The 4000 feature binary multinomial naive bayes has a higher accuracy score by almost 13%."
   ]
  },
  {
   "cell_type": "code",
   "execution_count": null,
   "metadata": {
    "id": "n98qRGseplJf"
   },
   "outputs": [],
   "source": [
    "# Your results should look similar to this: (\"the Accuracy of the trained classifier is: ...\" below)"
   ]
  },
  {
   "cell_type": "code",
   "execution_count": 3,
   "metadata": {},
   "outputs": [
    {
     "name": "stdout",
     "output_type": "stream",
     "text": [
      "Requirement already satisfied: pip in c:\\users\\jared\\anaconda3\\lib\\site-packages (21.0.1)\n",
      "Collecting pip\n",
      "  Downloading pip-22.3-py3-none-any.whl (2.1 MB)\n",
      "Requirement already satisfied: setuptools in c:\\users\\jared\\anaconda3\\lib\\site-packages (52.0.0.post20210125)\n",
      "Collecting setuptools\n",
      "  Downloading setuptools-65.5.0-py3-none-any.whl (1.2 MB)\n",
      "Requirement already satisfied: wheel in c:\\users\\jared\\anaconda3\\lib\\site-packages (0.36.2)\n",
      "Collecting wheel\n",
      "  Downloading wheel-0.37.1-py2.py3-none-any.whl (35 kB)\n",
      "Installing collected packages: wheel, setuptools, pip\n",
      "  Attempting uninstall: wheel\n",
      "    Found existing installation: wheel 0.36.2\n",
      "    Uninstalling wheel-0.36.2:\n",
      "      Successfully uninstalled wheel-0.36.2\n",
      "  Attempting uninstall: setuptools\n",
      "    Found existing installation: setuptools 52.0.0.post20210125\n",
      "    Uninstalling setuptools-52.0.0.post20210125:\n",
      "      Successfully uninstalled setuptools-52.0.0.post20210125\n",
      "  Attempting uninstall: pip\n",
      "    Found existing installation: pip 21.0.1\n",
      "    Uninstalling pip-21.0.1:\n",
      "      Successfully uninstalled pip-21.0.1\n",
      "Successfully installed pip-22.3 setuptools-65.5.0 wheel-0.37.1\n"
     ]
    },
    {
     "name": "stderr",
     "output_type": "stream",
     "text": [
      "ERROR: pip's dependency resolver does not currently take into account all the packages that are installed. This behaviour is the source of the following dependency conflicts.\n",
      "spyder 4.2.5 requires pyqt5<5.13, which is not installed.\n",
      "spyder 4.2.5 requires pyqtwebengine<5.13, which is not installed.\n",
      "conda-repo-cli 1.0.4 requires pathlib, which is not installed.\n"
     ]
    },
    {
     "name": "stdout",
     "output_type": "stream",
     "text": [
      "Collecting spacy\n",
      "  Downloading spacy-3.4.1-cp38-cp38-win_amd64.whl (12.1 MB)\n",
      "     --------------------------------------- 12.1/12.1 MB 12.1 MB/s eta 0:00:00\n",
      "Collecting wasabi<1.1.0,>=0.9.1\n",
      "  Downloading wasabi-0.10.1-py3-none-any.whl (26 kB)\n",
      "Requirement already satisfied: requests<3.0.0,>=2.13.0 in c:\\users\\jared\\anaconda3\\lib\\site-packages (from spacy) (2.25.1)\n",
      "Requirement already satisfied: numpy>=1.15.0 in c:\\users\\jared\\anaconda3\\lib\\site-packages (from spacy) (1.20.1)\n",
      "Collecting spacy-loggers<2.0.0,>=1.0.0\n",
      "  Downloading spacy_loggers-1.0.3-py3-none-any.whl (9.3 kB)\n",
      "Collecting typer<0.5.0,>=0.3.0\n",
      "  Downloading typer-0.4.2-py3-none-any.whl (27 kB)\n",
      "Collecting catalogue<2.1.0,>=2.0.6\n",
      "  Downloading catalogue-2.0.8-py3-none-any.whl (17 kB)\n",
      "Requirement already satisfied: jinja2 in c:\\users\\jared\\anaconda3\\lib\\site-packages (from spacy) (2.11.3)\n",
      "Collecting spacy-legacy<3.1.0,>=3.0.9\n",
      "  Downloading spacy_legacy-3.0.10-py2.py3-none-any.whl (21 kB)\n",
      "Requirement already satisfied: tqdm<5.0.0,>=4.38.0 in c:\\users\\jared\\anaconda3\\lib\\site-packages (from spacy) (4.59.0)\n",
      "Collecting pathy>=0.3.5\n",
      "  Downloading pathy-0.6.2-py3-none-any.whl (42 kB)\n",
      "     ---------------------------------------- 42.8/42.8 kB 2.2 MB/s eta 0:00:00\n",
      "Collecting cymem<2.1.0,>=2.0.2\n",
      "  Downloading cymem-2.0.7-cp38-cp38-win_amd64.whl (30 kB)\n",
      "Collecting preshed<3.1.0,>=3.0.2\n",
      "  Downloading preshed-3.0.8-cp38-cp38-win_amd64.whl (96 kB)\n",
      "     ---------------------------------------- 96.7/96.7 kB 5.4 MB/s eta 0:00:00\n",
      "Collecting murmurhash<1.1.0,>=0.28.0\n",
      "  Downloading murmurhash-1.0.9-cp38-cp38-win_amd64.whl (18 kB)\n",
      "Collecting pydantic!=1.8,!=1.8.1,<1.10.0,>=1.7.4\n",
      "  Downloading pydantic-1.9.2-cp38-cp38-win_amd64.whl (2.1 MB)\n",
      "     ---------------------------------------- 2.1/2.1 MB 13.1 MB/s eta 0:00:00\n",
      "Requirement already satisfied: setuptools in c:\\users\\jared\\anaconda3\\lib\\site-packages (from spacy) (65.5.0)\n",
      "Collecting srsly<3.0.0,>=2.4.3\n",
      "  Downloading srsly-2.4.5-cp38-cp38-win_amd64.whl (481 kB)\n",
      "     ------------------------------------- 481.3/481.3 kB 10.0 MB/s eta 0:00:00\n",
      "Collecting langcodes<4.0.0,>=3.2.0\n",
      "  Downloading langcodes-3.3.0-py3-none-any.whl (181 kB)\n",
      "     ------------------------------------- 181.6/181.6 kB 10.7 MB/s eta 0:00:00\n",
      "Collecting thinc<8.2.0,>=8.1.0\n",
      "  Downloading thinc-8.1.4-cp38-cp38-win_amd64.whl (1.3 MB)\n",
      "     ---------------------------------------- 1.3/1.3 MB 7.4 MB/s eta 0:00:00\n",
      "Requirement already satisfied: packaging>=20.0 in c:\\users\\jared\\anaconda3\\lib\\site-packages (from spacy) (20.9)\n",
      "Requirement already satisfied: pyparsing>=2.0.2 in c:\\users\\jared\\anaconda3\\lib\\site-packages (from packaging>=20.0->spacy) (2.4.7)\n",
      "Collecting smart-open<6.0.0,>=5.2.1\n",
      "  Downloading smart_open-5.2.1-py3-none-any.whl (58 kB)\n",
      "     ---------------------------------------- 58.6/58.6 kB ? eta 0:00:00\n",
      "Requirement already satisfied: typing-extensions>=3.7.4.3 in c:\\users\\jared\\anaconda3\\lib\\site-packages (from pydantic!=1.8,!=1.8.1,<1.10.0,>=1.7.4->spacy) (3.7.4.3)\n",
      "Requirement already satisfied: urllib3<1.27,>=1.21.1 in c:\\users\\jared\\anaconda3\\lib\\site-packages (from requests<3.0.0,>=2.13.0->spacy) (1.26.4)\n",
      "Requirement already satisfied: certifi>=2017.4.17 in c:\\users\\jared\\anaconda3\\lib\\site-packages (from requests<3.0.0,>=2.13.0->spacy) (2020.12.5)\n",
      "Requirement already satisfied: idna<3,>=2.5 in c:\\users\\jared\\anaconda3\\lib\\site-packages (from requests<3.0.0,>=2.13.0->spacy) (2.10)\n",
      "Requirement already satisfied: chardet<5,>=3.0.2 in c:\\users\\jared\\anaconda3\\lib\\site-packages (from requests<3.0.0,>=2.13.0->spacy) (4.0.0)\n",
      "Collecting confection<1.0.0,>=0.0.1\n",
      "  Downloading confection-0.0.3-py3-none-any.whl (32 kB)\n",
      "Collecting blis<0.8.0,>=0.7.8\n",
      "  Downloading blis-0.7.9-cp38-cp38-win_amd64.whl (7.0 MB)\n",
      "     ---------------------------------------- 7.0/7.0 MB 7.2 MB/s eta 0:00:00\n",
      "Requirement already satisfied: click<9.0.0,>=7.1.1 in c:\\users\\jared\\anaconda3\\lib\\site-packages (from typer<0.5.0,>=0.3.0->spacy) (7.1.2)\n",
      "Requirement already satisfied: MarkupSafe>=0.23 in c:\\users\\jared\\anaconda3\\lib\\site-packages (from jinja2->spacy) (1.1.1)\n",
      "Installing collected packages: wasabi, cymem, typer, spacy-loggers, spacy-legacy, smart-open, pydantic, murmurhash, langcodes, catalogue, blis, srsly, preshed, pathy, confection, thinc, spacy\n",
      "Successfully installed blis-0.7.9 catalogue-2.0.8 confection-0.0.3 cymem-2.0.7 langcodes-3.3.0 murmurhash-1.0.9 pathy-0.6.2 preshed-3.0.8 pydantic-1.9.2 smart-open-5.2.1 spacy-3.4.1 spacy-legacy-3.0.10 spacy-loggers-1.0.3 srsly-2.4.5 thinc-8.1.4 typer-0.4.2 wasabi-0.10.1\n",
      "Collecting en-core-web-sm==3.4.0\n",
      "  Downloading https://github.com/explosion/spacy-models/releases/download/en_core_web_sm-3.4.0/en_core_web_sm-3.4.0-py3-none-any.whl (12.8 MB)\n",
      "     ---------------------------------------- 12.8/12.8 MB 7.4 MB/s eta 0:00:00\n",
      "Requirement already satisfied: spacy<3.5.0,>=3.4.0 in c:\\users\\jared\\anaconda3\\lib\\site-packages (from en-core-web-sm==3.4.0) (3.4.1)\n",
      "Requirement already satisfied: spacy-loggers<2.0.0,>=1.0.0 in c:\\users\\jared\\anaconda3\\lib\\site-packages (from spacy<3.5.0,>=3.4.0->en-core-web-sm==3.4.0) (1.0.3)\n",
      "Requirement already satisfied: catalogue<2.1.0,>=2.0.6 in c:\\users\\jared\\anaconda3\\lib\\site-packages (from spacy<3.5.0,>=3.4.0->en-core-web-sm==3.4.0) (2.0.8)\n",
      "Requirement already satisfied: murmurhash<1.1.0,>=0.28.0 in c:\\users\\jared\\anaconda3\\lib\\site-packages (from spacy<3.5.0,>=3.4.0->en-core-web-sm==3.4.0) (1.0.9)\n",
      "Requirement already satisfied: pathy>=0.3.5 in c:\\users\\jared\\anaconda3\\lib\\site-packages (from spacy<3.5.0,>=3.4.0->en-core-web-sm==3.4.0) (0.6.2)\n",
      "Requirement already satisfied: requests<3.0.0,>=2.13.0 in c:\\users\\jared\\anaconda3\\lib\\site-packages (from spacy<3.5.0,>=3.4.0->en-core-web-sm==3.4.0) (2.25.1)\n",
      "Requirement already satisfied: srsly<3.0.0,>=2.4.3 in c:\\users\\jared\\anaconda3\\lib\\site-packages (from spacy<3.5.0,>=3.4.0->en-core-web-sm==3.4.0) (2.4.5)\n",
      "Requirement already satisfied: preshed<3.1.0,>=3.0.2 in c:\\users\\jared\\anaconda3\\lib\\site-packages (from spacy<3.5.0,>=3.4.0->en-core-web-sm==3.4.0) (3.0.8)\n",
      "Requirement already satisfied: cymem<2.1.0,>=2.0.2 in c:\\users\\jared\\anaconda3\\lib\\site-packages (from spacy<3.5.0,>=3.4.0->en-core-web-sm==3.4.0) (2.0.7)\n",
      "Requirement already satisfied: wasabi<1.1.0,>=0.9.1 in c:\\users\\jared\\anaconda3\\lib\\site-packages (from spacy<3.5.0,>=3.4.0->en-core-web-sm==3.4.0) (0.10.1)\n",
      "Requirement already satisfied: typer<0.5.0,>=0.3.0 in c:\\users\\jared\\anaconda3\\lib\\site-packages (from spacy<3.5.0,>=3.4.0->en-core-web-sm==3.4.0) (0.4.2)\n",
      "Requirement already satisfied: tqdm<5.0.0,>=4.38.0 in c:\\users\\jared\\anaconda3\\lib\\site-packages (from spacy<3.5.0,>=3.4.0->en-core-web-sm==3.4.0) (4.59.0)\n",
      "Requirement already satisfied: numpy>=1.15.0 in c:\\users\\jared\\anaconda3\\lib\\site-packages (from spacy<3.5.0,>=3.4.0->en-core-web-sm==3.4.0) (1.20.1)\n",
      "Requirement already satisfied: jinja2 in c:\\users\\jared\\anaconda3\\lib\\site-packages (from spacy<3.5.0,>=3.4.0->en-core-web-sm==3.4.0) (2.11.3)\n",
      "Requirement already satisfied: thinc<8.2.0,>=8.1.0 in c:\\users\\jared\\anaconda3\\lib\\site-packages (from spacy<3.5.0,>=3.4.0->en-core-web-sm==3.4.0) (8.1.4)\n",
      "Requirement already satisfied: langcodes<4.0.0,>=3.2.0 in c:\\users\\jared\\anaconda3\\lib\\site-packages (from spacy<3.5.0,>=3.4.0->en-core-web-sm==3.4.0) (3.3.0)\n",
      "Requirement already satisfied: packaging>=20.0 in c:\\users\\jared\\anaconda3\\lib\\site-packages (from spacy<3.5.0,>=3.4.0->en-core-web-sm==3.4.0) (20.9)\n",
      "Requirement already satisfied: setuptools in c:\\users\\jared\\anaconda3\\lib\\site-packages (from spacy<3.5.0,>=3.4.0->en-core-web-sm==3.4.0) (65.5.0)\n",
      "Requirement already satisfied: spacy-legacy<3.1.0,>=3.0.9 in c:\\users\\jared\\anaconda3\\lib\\site-packages (from spacy<3.5.0,>=3.4.0->en-core-web-sm==3.4.0) (3.0.10)\n",
      "Requirement already satisfied: pydantic!=1.8,!=1.8.1,<1.10.0,>=1.7.4 in c:\\users\\jared\\anaconda3\\lib\\site-packages (from spacy<3.5.0,>=3.4.0->en-core-web-sm==3.4.0) (1.9.2)\n",
      "Requirement already satisfied: pyparsing>=2.0.2 in c:\\users\\jared\\anaconda3\\lib\\site-packages (from packaging>=20.0->spacy<3.5.0,>=3.4.0->en-core-web-sm==3.4.0) (2.4.7)\n",
      "Requirement already satisfied: smart-open<6.0.0,>=5.2.1 in c:\\users\\jared\\anaconda3\\lib\\site-packages (from pathy>=0.3.5->spacy<3.5.0,>=3.4.0->en-core-web-sm==3.4.0) (5.2.1)\n",
      "Requirement already satisfied: typing-extensions>=3.7.4.3 in c:\\users\\jared\\anaconda3\\lib\\site-packages (from pydantic!=1.8,!=1.8.1,<1.10.0,>=1.7.4->spacy<3.5.0,>=3.4.0->en-core-web-sm==3.4.0) (3.7.4.3)\n",
      "Requirement already satisfied: idna<3,>=2.5 in c:\\users\\jared\\anaconda3\\lib\\site-packages (from requests<3.0.0,>=2.13.0->spacy<3.5.0,>=3.4.0->en-core-web-sm==3.4.0) (2.10)\n",
      "Requirement already satisfied: urllib3<1.27,>=1.21.1 in c:\\users\\jared\\anaconda3\\lib\\site-packages (from requests<3.0.0,>=2.13.0->spacy<3.5.0,>=3.4.0->en-core-web-sm==3.4.0) (1.26.4)\n",
      "Requirement already satisfied: chardet<5,>=3.0.2 in c:\\users\\jared\\anaconda3\\lib\\site-packages (from requests<3.0.0,>=2.13.0->spacy<3.5.0,>=3.4.0->en-core-web-sm==3.4.0) (4.0.0)\n",
      "Requirement already satisfied: certifi>=2017.4.17 in c:\\users\\jared\\anaconda3\\lib\\site-packages (from requests<3.0.0,>=2.13.0->spacy<3.5.0,>=3.4.0->en-core-web-sm==3.4.0) (2020.12.5)\n",
      "Requirement already satisfied: blis<0.8.0,>=0.7.8 in c:\\users\\jared\\anaconda3\\lib\\site-packages (from thinc<8.2.0,>=8.1.0->spacy<3.5.0,>=3.4.0->en-core-web-sm==3.4.0) (0.7.9)\n",
      "Requirement already satisfied: confection<1.0.0,>=0.0.1 in c:\\users\\jared\\anaconda3\\lib\\site-packages (from thinc<8.2.0,>=8.1.0->spacy<3.5.0,>=3.4.0->en-core-web-sm==3.4.0) (0.0.3)\n",
      "Requirement already satisfied: click<9.0.0,>=7.1.1 in c:\\users\\jared\\anaconda3\\lib\\site-packages (from typer<0.5.0,>=0.3.0->spacy<3.5.0,>=3.4.0->en-core-web-sm==3.4.0) (7.1.2)\n",
      "Requirement already satisfied: MarkupSafe>=0.23 in c:\\users\\jared\\anaconda3\\lib\\site-packages (from jinja2->spacy<3.5.0,>=3.4.0->en-core-web-sm==3.4.0) (1.1.1)\n",
      "Installing collected packages: en-core-web-sm\n",
      "Successfully installed en-core-web-sm-3.4.0\n",
      "[+] Download and installation successful\n",
      "You can now load the package via spacy.load('en_core_web_sm')\n"
     ]
    }
   ],
   "source": [
    "!pip install -U pip setuptools wheel\n",
    "!pip install -U spacy\n",
    "!python -m spacy download en_core_web_sm"
   ]
  },
  {
   "cell_type": "markdown",
   "metadata": {
    "id": "VnB5z-ZoZEa5"
   },
   "source": [
    "**Part 2: PCA Analysis of Shakepeare's Plays.**\n",
    "\n",
    "The file: will_play_text.csv contains lines from William Shakespeare’s plays. The second column of the file contains the name of\n",
    "the play, while the fifth and the sixth contain the name of the character who spoke and what they spoke, respectively. Tokenize\n",
    "and lower case each line in will_play_text.csv using spacy. The file vocab.txt lists the words in the vocabulary. play_genres.csv stores the genres of Shakepeare's plays.\n",
    "\n",
    "**Task 11 & 12 & 13:**\n",
    "\n",
    "11. Create a term-document matrix where each row represents a word in the vocabulary and each column represents\n",
    "a play. Each entry in this matrix represents the number of times a particular word (defined by the row) occurs in a\n",
    "particular play (defined by the column). Use CountVectorizer in sklearn to create the matrix, using the file vocab.txt as\n",
    "input for the vocabulary parameter. From your term-document matrix, use PCA in sklearn to create a 2-dimensional\n",
    "representation of each play. Visualize these representations to see which plays are most similar to each other. Include the\n",
    "visualization in your answer sheet. You can follow the tutorial [here](https://machinelearningmastery.com/develop-word-embeddings-python-gensim/) to create the visualization (look at the \"PCA\" part).\n",
    "\n",
    "12. What plays are similar to each other? Do they match the grouping of Shakespeare’s plays into comedies, histories,\n",
    "and tragedies here?\n",
    "\n",
    "  **Your answer here:**\n",
    "The plays that are similar to each other do roughly match the grouping of Shakespeare's plays into comedies, histories, and tragedies. The histories are all roughly grouped in the top right, the comedies roughly more spread out on the bottom left, and the tragedies are grouped closely together in the bottom middle. \n",
    "  \n",
    "\n",
    "13. Create another term-document matrix where each row represents a word in the vocabulary and each column\n",
    "represents a play, but with TFIDF counts (using TFIDFVectorizer in sklearn and vocab.txt for vocabulary). Use PCA\n",
    "again on these TFIDF term-document matrix and visualize the plays. Include the visualization in your answer sheet.\n",
    "\n",
    "**Hints:** the PCA function in sklearn doesn't work for sparse inputs, try 'TruncatedSVD' instead. \n",
    "\n"
   ]
  },
  {
   "cell_type": "code",
   "execution_count": 59,
   "metadata": {},
   "outputs": [],
   "source": [
    "# Pre-task: reading in all the lines from Shakespeare's plays\n",
    "import spacy \n",
    "nlp = spacy.load(\"en_core_web_sm\")\n",
    "\n",
    "def loadVocabFromCSV(filePath):\n",
    "  df = pd.read_csv(filePath)\n",
    "  vocab_list = []\n",
    "  for item in df.values:\n",
    "    vocab_list.append(item[0])\n",
    "  return vocab_list\n",
    "\n",
    "vocab = loadVocabFromCSV('vocab.txt')\n",
    "vocab_len = len(vocab)\n",
    "\n",
    "def loadPlaysFromCSV(filePath):\n",
    "  df = pd.read_csv(filePath, delimiter=\";\", names=[\"index\", \"play\", \"3\", \"4\", \"speaker\", \"line\"])\n",
    "  \n",
    "  plays = df.loc[:, \"play\"].tolist()\n",
    "  lines = df.loc[:,\"line\"].tolist()\n",
    "  characters = df.loc[:,\"speaker\"].tolist()\n",
    "#   print(df)\n",
    "  play_dict = {} # key: play name | val: one massive string containing all the words in the play\n",
    "  play_sents = {} # key: play name| val: a list containing every sentence in the play\n",
    "  char_lines = {} # key: char_name | val: a list containing every line they have\n",
    "  \n",
    "  # print(df.loc[:,\"line\"].tolist()[:10])\n",
    "\n",
    "  # print(plays[:10])\n",
    "\n",
    "  for i, play in enumerate(plays):\n",
    "    # print(play_dict)\n",
    "    # print(play)\n",
    "    # print(lines[i])\n",
    "    # if(str(play) != \"Henry IV\" and str(play) != \"Henry VI Part 1\"):\n",
    "    #   print(i)\n",
    "    #   print(play_dict)\n",
    "    #   print(play)\n",
    "    #   print(lines[i])\n",
    "    #   break\n",
    "      # currently only tokenizing all of Henry IV's lines (21 second runtime)\n",
    "      # full dataset should be about 3-4 minutes of runtime just based on size\n",
    "      # actual input on full dataset is 11 min???\n",
    "    line_doc = nlp(lines[i])\n",
    "    line_words = \"\"\n",
    "    if(i%1000 == 0):\n",
    "      print(i)\n",
    "#       print(play_dict)\n",
    "      print(play)\n",
    "      print(lines[i])\n",
    "#     if (str(play) != \"Henry IV\" and str(play) != \"Henry VI Part 1\"):\n",
    "#         print(i)\n",
    "#         print(play)\n",
    "#         print(lines[i])\n",
    "#         break\n",
    "    for token in line_doc:\n",
    "      if token.text.lower() in vocab:\n",
    "        line_words += (token.text.lower() + \" \")\n",
    "\n",
    "    if(play in play_dict):\n",
    "      # print(play + \" in dict keys\")\n",
    "      # print(play_dict[str(play)])\n",
    "\n",
    "        play_dict[str(play)] += (line_words)\n",
    "        play_sents[str(play)].append(line_words)\n",
    "    elif (str(lines[i]) != \"nan\"):\n",
    "      # print(line_doc)\n",
    "      play_dict[str(play)] = line_words\n",
    "      play_sents[str(play)] = [line_words]\n",
    "  \n",
    "  return play_dict, play_sents\n",
    "\n",
    "plays, play_sents = loadPlaysFromCSV('will_play_text.csv')\n",
    "# print(plays)\n",
    "print(\"finished aquiring plays\")"
   ]
  },
  {
   "cell_type": "code",
   "execution_count": 4,
   "metadata": {},
   "outputs": [
    {
     "name": "stdout",
     "output_type": "stream",
     "text": [
      "CountVectorizer(vocabulary=['tribe', 'success', 'mood', 'pipes', 'friday',\n",
      "                            'scaring', 'lovers', 'hue', 'umpire', 'allays',\n",
      "                            'islands', 'mandrake', 'trims', 'fleming', 'dashes',\n",
      "                            'vetches', 'nobleman', 'entomb', 'roussi',\n",
      "                            'ruptures', 'vulgo', 'couplement', 'overfar',\n",
      "                            'cuckolds', 'yells', 'dislocate', 'teems', 'dreamt',\n",
      "                            'perdu', 'heartbreaking', ...])\n"
     ]
    },
    {
     "data": {
      "image/png": "[encoded data removed]",
      "text/plain": [
       "<Figure size 432x288 with 1 Axes>"
      ]
     },
     "metadata": {
      "needs_background": "light"
     },
     "output_type": "display_data"
    }
   ],
   "source": [
    "# task 11\n",
    "from sklearn.decomposition import TruncatedSVD\n",
    "import numpy as np\n",
    "from matplotlib import pyplot\n",
    "\n",
    "term_document_matrix = CountVectorizer(vocabulary=vocab)\n",
    "X = term_document_matrix.transform(list(plays.values()))\n",
    "\n",
    "print(term_document_matrix)\n",
    "# print(X)\n",
    "\n",
    "def svd_visualization(X, names):\n",
    "    svd = TruncatedSVD(n_components=2)\n",
    "    result = svd.fit_transform(X)\n",
    "\n",
    "    pyplot.scatter(result[:, 0], result[:, 1])\n",
    "    \n",
    "    for i, n in enumerate(names):\n",
    "        pyplot.annotate(n, xy=(result[i, 0], result[i, 1]))\n",
    "    pyplot.show()\n",
    "    \n",
    "play_names = list(plays.keys())\n",
    "svd_visualization(X, play_names)"
   ]
  },
  {
   "cell_type": "code",
   "execution_count": 18,
   "metadata": {},
   "outputs": [
    {
     "data": {
      "image/png": "[encoded data removed]",
      "text/plain": [
       "<Figure size 432x288 with 1 Axes>"
      ]
     },
     "metadata": {
      "needs_background": "light"
     },
     "output_type": "display_data"
    }
   ],
   "source": [
    "# task 13 TFIDF counts\n",
    "from sklearn.feature_extraction.text import TfidfVectorizer\n",
    "\n",
    "vectorizer = TfidfVectorizer()\n",
    "X_1 = vectorizer.fit_transform(list(plays.values()))\n",
    "\n",
    "svd_visualization(X_1, play_names)"
   ]
  },
  {
   "cell_type": "code",
   "execution_count": null,
   "metadata": {
    "id": "Mqw9fcWNheto"
   },
   "outputs": [],
   "source": [
    "# Your visualization should look similar to this:"
   ]
  },
  {
   "cell_type": "markdown",
   "metadata": {
    "id": "fNMZ8AfPbVEY"
   },
   "source": [
    "**Tasks 14 & 15:**\n",
    "14. Create a word-word matrix where each row (and each column) represents a word in the vocabulary (vocab.txt).\n",
    "Each entry in this matrix represents the number of times a particular word (defined by the row) co-occurs with another\n",
    "word (defined by the column) in a sentence (i.e., line in will_play_text.csv). Using the row word vectors, create a representation\n",
    "of a play as the average of all the word vectors in the play. Use these vector representations of plays to compute\n",
    "average pairwise cosine-similarity between plays that are comedies (do not include self-similarities). You can use the\n",
    "grouping of plays in here.\n",
    "\n",
    "15. Using vector representations of plays computed in task 14, compute average pairwise cosine-similarity between\n",
    "plays that are histories, and between plays that are tragedies (do not include self-similarities).\n",
    "\n",
    "Hint: \n",
    "[How to calculate a word-word-co-occurence-matrix with sklearn](https://stackoverflow.com/questions/35562789/how-do-i-calculate-a-word-word-co-occurrence-matrix-with-sklearn)."
   ]
  },
  {
   "cell_type": "code",
   "execution_count": null,
   "metadata": {},
   "outputs": [],
   "source": [
    "# Task 14 create word-word matrix\n",
    "from sklearn.feature_extraction.text import CountVectorizer\n",
    "\n",
    "all_sents = []\n",
    "\n",
    "for sent in play_sents.values():\n",
    "    all_sents.extend(sent)\n",
    "\n",
    "count_model = CountVectorizer() # default unigram model\n",
    "X = count_model.fit_transform(all_sents)\n",
    "# X[X > 0] = 1 # run this line if you don't want extra within-text cooccurence (see below)\n",
    "Xc = (X.T * X) # this is co-occurrence matrix in sparse csr format\n",
    "Xc.setdiag(0) # sometimes you want to fill same word cooccurence to 0\n",
    "print(Xc.todense()) # print out matrix in dense format\n",
    "print(Xc.shape)\n",
    "print(Xc)\n",
    "\n",
    "feature_names = count_model.get_feature_names()\n",
    "\n",
    "feature_dict = {}\n",
    "\n",
    "for i, word in enumerate(feature_names):\n",
    "    feature_dict[word] = Xc[i]\n",
    "\n",
    "# print(Xc[:1])\n",
    "# print(Xc)\n",
    "# print(feature_dict)\n"
   ]
  },
  {
   "cell_type": "code",
   "execution_count": null,
   "metadata": {},
   "outputs": [],
   "source": [
    "# print((Xc))\n",
    "# row_1 = Xc[0]\n",
    "# print(row_1.tolil().toarray())"
   ]
  },
  {
   "cell_type": "code",
   "execution_count": 83,
   "metadata": {},
   "outputs": [],
   "source": [
    "# find the average word vector for each play\n",
    "from scipy.sparse import csc_matrix\n",
    "\n",
    "def word_avg_from_play (play_words):\n",
    "    word_vectors = []\n",
    "    length = 0\n",
    "    for word in play_words.split():\n",
    "        if (word in feature_dict):\n",
    "#             print(word)\n",
    "            word_vectors.append(feature_dict[word])\n",
    "            if (len(word_vectors) == 1 ):\n",
    "                length = len(feature_dict[word].data)\n",
    "#         if(len(word_vectors) == 2):\n",
    "#             break\n",
    "    csc_sum = csc_matrix(word_vectors[0])\n",
    "    for i, vec in enumerate(word_vectors):\n",
    "        if (i != 0):\n",
    "            csc_sum = csc_sum + vec\n",
    "    # average every element in the sum matrix by getting the indicies of each non-zero value\n",
    "    # get the data and divide each value\n",
    "    data = csc_sum.data\n",
    "    avg_data = []\n",
    "    for v in data:\n",
    "        avg_data.append(v/(len(word_vectors)))\n",
    "#     print(avg_data)\n",
    "#     print(len(word_vectors))\n",
    "    # construct a new csc matrix\n",
    "    average = csc_matrix((avg_data, csc_sum.indices, csc_sum.indptr), shape=csc_sum.shape)\n",
    "    return (average)\n",
    "    \n",
    "# henry_word_avg = word_avg_from_play(plays[\"Henry V\"])\n",
    "# # print(len(henry_word_avg))\n",
    "# # print(henry_word_avg[0])\n",
    "# print(henry_word_avg)"
   ]
  },
  {
   "cell_type": "code",
   "execution_count": null,
   "metadata": {},
   "outputs": [],
   "source": [
    "# get the average word vectors for all of the plays\n",
    "\n",
    "play_avg_word_vec = {}\n",
    "\n",
    "for play in plays.keys():\n",
    "    play_avg_word_vec[play] = word_avg_from_play(plays[play])\n",
    "    print(\"averaged: \" + play)\n",
    "    \n",
    "# print(play_avg_word_vec)"
   ]
  },
  {
   "cell_type": "code",
   "execution_count": 87,
   "metadata": {},
   "outputs": [
    {
     "name": "stdout",
     "output_type": "stream",
     "text": [
      "{'A Comedy of Errors': 'comedies', 'A Midsummer nights dream': 'comedies', 'A Winters Tale': 'comedies', 'Alls well that ends well': 'comedies', 'As you like it': 'comedies', 'Loves Labours Lost': 'comedies', 'Measure for measure': 'comedies', 'Merchant of Venice': 'comedies', 'Merry Wives of Windsor': 'comedies', 'Much Ado about nothing': 'comedies', 'Pericles': 'comedies', 'Taming of the Shrew': 'comedies', 'The Tempest': 'comedies', 'Twelfth Night': 'comedies', 'Two Gentlemen of Verona': 'comedies', 'Henry IV': 'histories', 'Henry V': 'histories', 'Henry VI Part 1': 'histories', 'Henry VI Part 2': 'histories', 'Henry VI Part 3': 'histories', 'Henry VIII': 'histories', 'King John': 'histories', 'Richard II': 'histories', 'Richard III': 'histories', 'Antony and Cleopatra': 'tragedies', 'Coriolanus': 'tragedies', 'Cymbeline': 'tragedies', 'Hamlet': 'tragedies', 'Julius Caesar': 'tragedies', 'King Lear': 'tragedies', 'Othello': 'tragedies', 'Romeo and Juliet': 'tragedies', 'Timon of Athens': 'tragedies', 'Titus Andronicus': 'tragedies', 'Troilus and Cressida': 'tragedies', 'macbeth': 'tragedies'}\n"
     ]
    }
   ],
   "source": [
    "# genre reading\n",
    "\n",
    "def loadGenresFromCSV(filePath):\n",
    "    df = pd.read_csv(filePath)\n",
    "    playGenres = {}\n",
    "    play_list = df.loc[:, \"play\"].tolist()\n",
    "    genre_list = df.loc[:, \"genre\"].tolist()\n",
    "    \n",
    "    for i, play in enumerate(play_list):\n",
    "        playGenres[play] = genre_list[i].strip()\n",
    "    \n",
    "    return playGenres\n",
    "\n",
    "play_genres = loadGenresFromCSV(\"play_genres.csv\")\n",
    "print(play_genres)"
   ]
  },
  {
   "cell_type": "code",
   "execution_count": 134,
   "metadata": {},
   "outputs": [
    {
     "name": "stdout",
     "output_type": "stream",
     "text": [
      "play as word average comedies: 0.9996853704596493\n"
     ]
    }
   ],
   "source": [
    "# cosine similarity\n",
    "from sklearn.metrics.pairwise import cosine_similarity\n",
    "from scipy.sparse import hstack\n",
    "\n",
    "# make matrix of all plays of the same genre\n",
    "def make_genre_mat(play_genres):\n",
    "    genre_dic = {'comedies':[], 'histories':[], 'tragedies':[]}\n",
    "    for play in play_genres:\n",
    "        genre_mat = genre_dic[play_genres[play]]\n",
    "        play_vec = play_avg_word_vec[play].toarray().tolist()[0]\n",
    "        genre_mat.append(play_vec)\n",
    "    return genre_dic\n",
    "        \n",
    "genre_mat = make_genre_mat(play_genres)\n",
    "# print(genre_mat['comedies'][:1])\n",
    "\n",
    "com_cos_sim = cosine_similarity(genre_mat['comedies'])\n",
    "\n",
    "# print(com_cos_sim.shape)\n",
    "print(\"play as word average comedies: \" + str(np.mean(com_cos_sim)))"
   ]
  },
  {
   "cell_type": "code",
   "execution_count": 135,
   "metadata": {},
   "outputs": [
    {
     "name": "stdout",
     "output_type": "stream",
     "text": [
      "play as word average histories: 0.9997937113573021\n",
      "play as word average tragedies: 0.9996732377255706\n"
     ]
    }
   ],
   "source": [
    "# get cosine similarity of histories and tragedies\n",
    "\n",
    "hist_cos_sim = cosine_similarity(genre_mat['histories'])\n",
    "print(\"play as word average histories: \" + str(np.mean(hist_cos_sim)))\n",
    "\n",
    "trag_cos_sim = cosine_similarity(genre_mat['tragedies'])\n",
    "print(\"play as word average tragedies: \" + str(np.mean(trag_cos_sim)))"
   ]
  },
  {
   "cell_type": "code",
   "execution_count": null,
   "metadata": {
    "id": "xZgtbXF50S2R"
   },
   "outputs": [],
   "source": [
    "# Your results should look similar to this:"
   ]
  },
  {
   "cell_type": "markdown",
   "metadata": {
    "id": "HjZgaba7dJpG"
   },
   "source": [
    "**Task 16:**\n",
    "\n",
    "16. Use gensim to learn a 100-dimensional word2vec representation of the words in the play (you can use default\n",
    "parameters but with min count=1 so you can learn vector representations of all the words in your data i.e., no need to\n",
    "use vocab.txt in this question). Use the learned word2vec representation to construct vector representations of plays as\n",
    "the average of all the word vectors in the play. Visualize these representations to see which plays are most similar to each other.\n",
    "\n",
    "**Hint:** From now on, since the inputs are no longer sparse, use the PCA function instead of the 'truncatedSVD' one."
   ]
  },
  {
   "cell_type": "code",
   "execution_count": 160,
   "metadata": {},
   "outputs": [
    {
     "name": "stdout",
     "output_type": "stream",
     "text": [
      "['act', 'i', 'scene', 'london', 'the', 'palace', 'enter', 'king', 'henry', 'lord']\n",
      "809903\n"
     ]
    }
   ],
   "source": [
    "# assemble the tokenized text\n",
    "tokenized_words = []\n",
    "for play_words in plays.values():\n",
    "    tokenized_words.extend(play_words.split())\n",
    "\n",
    "print(tokenized_words[:10])\n",
    "print(len(tokenized_words))"
   ]
  },
  {
   "cell_type": "code",
   "execution_count": null,
   "metadata": {},
   "outputs": [],
   "source": [
    "# Task 16 100-d word2vec representation of all words in data\n",
    "\n",
    "# model = gensim.models.Word2Vec(tokenized_words, min_count=1, vector_size=100)\n",
    "model = gensim.models.Word2Vec(tokenize(plays.values()), min_count=1, vector_size=100)\n",
    "\n",
    "# print(model)\n",
    "# print(model.wv)\n",
    "# print(model.wv.index_to_key)\n",
    "# print(model.wv.vocab)"
   ]
  },
  {
   "cell_type": "code",
   "execution_count": null,
   "metadata": {},
   "outputs": [],
   "source": [
    "# average it by play\n",
    "\n",
    "def calculate_avg_play_vector(model, play_doc):\n",
    "  avg_vec = [0] * 100\n",
    "  count = 0\n",
    "  for sent in play_doc.sents:\n",
    "    for token in sent:\n",
    "      if(model.wv.__contains__(token.text)):\n",
    "        count += 1\n",
    "        word_vec = model.wv[token.text]\n",
    "        for i in range(100):\n",
    "          avg_vec[i] += word_vec[i]\n",
    "  for i, val in enumerate(avg_vec):\n",
    "    if(count != 0):\n",
    "      avg_vec[i] = val/count\n",
    "  return avg_vec\n",
    "\n",
    "avg_vector_for_plays = []\n",
    "for play_text in plays.values():\n",
    "  play_doc = nlp(play_text)\n",
    "  avg_vector_for_plays.append(calculate_avg_play_vector(model, play_doc))\n",
    "    \n",
    "# print(avg_vector_for_plays[:10])"
   ]
  },
  {
   "cell_type": "code",
   "execution_count": 183,
   "metadata": {},
   "outputs": [
    {
     "name": "stdout",
     "output_type": "stream",
     "text": [
      "['Henry IV', 'Henry VI Part 1', 'Henry VI Part 2', 'Henry VI Part 3', 'Alls well that ends well', 'As you like it', 'Antony and Cleopatra', 'A Comedy of Errors', 'Coriolanus', 'Cymbeline', 'Hamlet', 'Henry V', 'Henry VIII', 'King John', 'Julius Caesar', 'King Lear', 'Loves Labours Lost', 'macbeth', 'Measure for measure', 'Merchant of Venice', 'Merry Wives of Windsor', 'A Midsummer nights dream', 'Much Ado about nothing', 'Othello', 'Pericles', 'Richard II', 'Richard III', 'Romeo and Juliet', 'Taming of the Shrew', 'The Tempest', 'Timon of Athens', 'Titus Andronicus', 'Troilus and Cressida', 'Twelfth Night', 'Two Gentlemen of Verona', 'A Winters Tale']\n"
     ]
    },
    {
     "data": {
      "image/png": "[encoded data removed]",
      "text/plain": [
       "<Figure size 432x288 with 1 Axes>"
      ]
     },
     "metadata": {
      "needs_background": "light"
     },
     "output_type": "display_data"
    }
   ],
   "source": [
    "# PCA projection\n",
    "from sklearn.decomposition import PCA\n",
    "\n",
    "pca = PCA(n_components=2)\n",
    "result = pca.fit_transform(avg_vector_for_plays)\n",
    "# create a scatter plot of the projection\n",
    "pyplot.scatter(result[:, 0], result[:, 1])\n",
    "play_names = list(plays.keys())\n",
    "print(play_names)\n",
    "for i, play in enumerate(play_names):\n",
    "    pyplot.annotate(play, xy=(result[i, 0], result[i, 1]))\n",
    "pyplot.show()"
   ]
  },
  {
   "cell_type": "code",
   "execution_count": null,
   "metadata": {
    "id": "ibHEJCkv1mmz"
   },
   "outputs": [],
   "source": [
    "# Your results should look similar to this:"
   ]
  },
  {
   "cell_type": "markdown",
   "metadata": {
    "id": "Nq77-lY7d3is"
   },
   "source": [
    "**Task 17:**\n",
    "\n",
    "17. Construct the vector representation of each character as the average\n",
    "of the representations of all lines that the character spoke (with the gensim-trained representation). Visualize the characters using PCA."
   ]
  },
  {
   "cell_type": "code",
   "execution_count": null,
   "metadata": {
    "id": "g_y3I_dn8JlO"
   },
   "outputs": [],
   "source": [
    "# Your results should look similar to this (figure below):"
   ]
  },
  {
   "cell_type": "markdown",
   "metadata": {
    "id": "jreF9lpbeeF0"
   },
   "source": [
    "**Task 18:**\n",
    "\n",
    "18. Can you find plays that are central i.e., closest to centroid to each genre? You could do so by visualizing the play representation with PCA."
   ]
  },
  {
   "cell_type": "code",
   "execution_count": null,
   "metadata": {
    "id": "RBB9fWyADMhA"
   },
   "outputs": [],
   "source": [
    "# Your results should look similar to this (here's an example of genre \"histories\")"
   ]
  },
  {
   "cell_type": "code",
   "execution_count": null,
   "metadata": {
    "id": "07zHEDZqHhBE"
   },
   "outputs": [],
   "source": []
  }
 ],
 "metadata": {
  "colab": {
   "collapsed_sections": [],
   "include_colab_link": true,
   "provenance": []
  },
  "kernelspec": {
   "display_name": "Python 3",
   "language": "python",
   "name": "python3"
  },
  "language_info": {
   "codemirror_mode": {
    "name": "ipython",
    "version": 3
   },
   "file_extension": ".py",
   "mimetype": "text/x-python",
   "name": "python",
   "nbconvert_exporter": "python",
   "pygments_lexer": "ipython3",
   "version": "3.8.8"
  }
 },
 "nbformat": 4,
 "nbformat_minor": 1
}
