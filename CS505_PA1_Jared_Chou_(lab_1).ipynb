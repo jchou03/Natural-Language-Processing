{
  "nbformat": 4,
  "nbformat_minor": 0,
  "metadata": {
    "colab": {
      "provenance": [],
      "collapsed_sections": [],
      "include_colab_link": true
    },
    "kernelspec": {
      "name": "python3",
      "display_name": "Python 3"
    },
    "language_info": {
      "name": "python"
    }
  },
  "cells": [
    {
      "cell_type": "markdown",
      "metadata": {
        "id": "view-in-github",
        "colab_type": "text"
      },
      "source": [
        "<a href=\"https://colab.research.google.com/github/jchou03/Natural-Language-Processing/blob/main/CS505_PA1_Jared_Chou_(lab_1).ipynb\" target=\"_parent\"><img src=\"https://colab.research.google.com/assets/colab-badge.svg\" alt=\"Open In Colab\"/></a>"
      ]
    },
    {
      "cell_type": "markdown",
      "source": [
        "In this piece of code, we are going to practice scraping data from various sources, i.e., twitter, wikipedia and news websites.\n",
        "\n",
        "**You are going to use the output of the Twitter part to finish your assignment 1 . The rest are going to be used later.**\n",
        "\n",
        "First, we are going to learn how to scrap tweets from Twitter.\n",
        "\n",
        "To do so, you need to sign up for a developer account [here](https://developer.twitter.com/en/docs/twitter-api/getting-started/getting-access-to-the-twitter-api).\n",
        "\n",
        "After doing so, please make sure you have access to your Bearer token as well as other keys/tokens. Otherwise you won't be able to scrap data from Twitter."
      ],
      "metadata": {
        "id": "A2KAxtn4YgN7"
      }
    },
    {
      "cell_type": "markdown",
      "source": [
        "Also, you may want to mount your Google Drive so that you could save the scraped data into your drive for later."
      ],
      "metadata": {
        "id": "COJJ6SItqr3j"
      }
    },
    {
      "cell_type": "code",
      "source": [
        "from google.colab import drive\n",
        "drive.mount('/content/drive')"
      ],
      "metadata": {
        "id": "J0UlPqSlqshR",
        "colab": {
          "base_uri": "https://localhost:8080/"
        },
        "outputId": "fa30232b-01bd-43e0-9dfb-da837616fd20"
      },
      "execution_count": null,
      "outputs": [
        {
          "output_type": "stream",
          "name": "stdout",
          "text": [
            "Drive already mounted at /content/drive; to attempt to forcibly remount, call drive.mount(\"/content/drive\", force_remount=True).\n"
          ]
        }
      ]
    },
    {
      "cell_type": "markdown",
      "source": [
        "We strongly recommend you to have a look at this [article](https://dev.to/twitterdev/a-comprehensive-guide-for-using-the-twitter-api-v2-using-tweepy-in-python-15d9) \n",
        "to get familiar with the things you can do with scrapping tool.\n",
        "\n",
        "If your problem still exist, don't hesitate to post question(s) on Piazza or come to the TA's office hours."
      ],
      "metadata": {
        "id": "6C3xtTN1lYps"
      }
    },
    {
      "cell_type": "code",
      "source": [
        "#Step 1: installing tweepy, the tool to scrap data from Twitter (before that, please make sure you have your Bearer ready)\n",
        "!pip3 install tweepy\n",
        "!pip3 install tweepy --upgrade # make sure your tweepy is up-to-date (>=4.10.1), otherwise there's a chance your won't be able to interact with Twitter API v2.\n",
        "#Restart Runtime might be needed."
      ],
      "metadata": {
        "id": "ojbA8KQiYiWr",
        "colab": {
          "base_uri": "https://localhost:8080/"
        },
        "outputId": "1d5b0506-85e5-4401-883a-127454e738d0"
      },
      "execution_count": null,
      "outputs": [
        {
          "output_type": "stream",
          "name": "stdout",
          "text": [
            "Looking in indexes: https://pypi.org/simple, https://us-python.pkg.dev/colab-wheels/public/simple/\n",
            "Requirement already satisfied: tweepy in /usr/local/lib/python3.7/dist-packages (4.10.1)\n",
            "Requirement already satisfied: requests-oauthlib<2,>=1.2.0 in /usr/local/lib/python3.7/dist-packages (from tweepy) (1.3.1)\n",
            "Requirement already satisfied: oauthlib<4,>=3.2.0 in /usr/local/lib/python3.7/dist-packages (from tweepy) (3.2.0)\n",
            "Requirement already satisfied: requests<3,>=2.27.0 in /usr/local/lib/python3.7/dist-packages (from tweepy) (2.28.1)\n",
            "Requirement already satisfied: idna<4,>=2.5 in /usr/local/lib/python3.7/dist-packages (from requests<3,>=2.27.0->tweepy) (2.10)\n",
            "Requirement already satisfied: urllib3<1.27,>=1.21.1 in /usr/local/lib/python3.7/dist-packages (from requests<3,>=2.27.0->tweepy) (1.24.3)\n",
            "Requirement already satisfied: charset-normalizer<3,>=2 in /usr/local/lib/python3.7/dist-packages (from requests<3,>=2.27.0->tweepy) (2.1.1)\n",
            "Requirement already satisfied: certifi>=2017.4.17 in /usr/local/lib/python3.7/dist-packages (from requests<3,>=2.27.0->tweepy) (2022.6.15)\n",
            "Looking in indexes: https://pypi.org/simple, https://us-python.pkg.dev/colab-wheels/public/simple/\n",
            "Requirement already satisfied: tweepy in /usr/local/lib/python3.7/dist-packages (4.10.1)\n",
            "Requirement already satisfied: requests-oauthlib<2,>=1.2.0 in /usr/local/lib/python3.7/dist-packages (from tweepy) (1.3.1)\n",
            "Requirement already satisfied: oauthlib<4,>=3.2.0 in /usr/local/lib/python3.7/dist-packages (from tweepy) (3.2.0)\n",
            "Requirement already satisfied: requests<3,>=2.27.0 in /usr/local/lib/python3.7/dist-packages (from tweepy) (2.28.1)\n",
            "Requirement already satisfied: idna<4,>=2.5 in /usr/local/lib/python3.7/dist-packages (from requests<3,>=2.27.0->tweepy) (2.10)\n",
            "Requirement already satisfied: charset-normalizer<3,>=2 in /usr/local/lib/python3.7/dist-packages (from requests<3,>=2.27.0->tweepy) (2.1.1)\n",
            "Requirement already satisfied: certifi>=2017.4.17 in /usr/local/lib/python3.7/dist-packages (from requests<3,>=2.27.0->tweepy) (2022.6.15)\n",
            "Requirement already satisfied: urllib3<1.27,>=1.21.1 in /usr/local/lib/python3.7/dist-packages (from requests<3,>=2.27.0->tweepy) (1.24.3)\n"
          ]
        }
      ]
    },
    {
      "cell_type": "code",
      "source": [
        "#Step 2: initiate your client\n",
        "# You will need to get your bearer token from the email sent to you.\n",
        "import tweepy\n",
        "client = tweepy.Client(bearer_token='AAAAAAAAAAAAAAAAAAAAALZxhAEAAAAANF7xDDhnPvnIzDbG1DAgwfW%2Ft%2Bo%3DqLKehartkTnY8z7aa2uYo3doESHKL9UZhtJD0gQJiI5HxpyZDK') # replace with your bearer token here.\n",
        "# API Key 9mUTUy7DQJ9vdxEcbUBmquQdN\n",
        "# API Key Secret vHMfoV7amGnSci6Fv9gbm09OWzXLEBXT7B7pmsDoSaCG855y4o"
      ],
      "metadata": {
        "id": "L8NN99MMPWhP"
      },
      "execution_count": null,
      "outputs": []
    },
    {
      "cell_type": "code",
      "source": [
        "#Step 3: a first try on scraping data, run the following code to see if we could collect some tweets related to 'football'\n",
        "query = 'football lang:en -is:retweet' # the query restricts the collected tweets to contain 'football', to be in English, and to not be re-tweets. \n",
        "tweets = client.search_recent_tweets(query=query, max_results=100) # we are using search_recent_tweets, to search for tweets in recent 7 days. Bring 10 tweets back.\n",
        "for tweet in tweets.data[:10]:\n",
        "    print(tweet.text)\n",
        "    print('-----------------------------')"
      ],
      "metadata": {
        "id": "ka0iOvLXViS-",
        "colab": {
          "base_uri": "https://localhost:8080/"
        },
        "outputId": "bc3242d3-e57a-419a-f89c-fe237bd838f3"
      },
      "execution_count": null,
      "outputs": [
        {
          "output_type": "stream",
          "name": "stdout",
          "text": [
            "@GHS_Owls 📢 Reminder : Football - Gameday 15/9/22 at 7pm\n",
            "🔴 Live Streaming : https://t.co/h8k8ayDNqk\n",
            "-----------------------------\n",
            "@MaziThanos @CBSSportsGolazo @Carra23 That’s baseball. No one gives a fuck about baseball. We’re having a conversation about football you fucking moron and he’s spent 5 minutes in the premier league where he’s already sacked a world class manager after backing him with over €300 million worth of players. Wanker.\n",
            "-----------------------------\n",
            "@markgLSU @RapSheet European Football is an amazing sport. I didn't really understand why until I started watching.\n",
            "-----------------------------\n",
            "Help East Ridge Football 2022 reach their goal! Will you consider donating? https://t.co/h58ee91h4U\n",
            "-----------------------------\n",
            "#Chargers Daily Links\n",
            "\n",
            "Let us hear your score predictions for tonight’s primetime matchup w/ the Chiefs! https://t.co/IeDf7Ur3Qi https://t.co/CPuufLGgX2\n",
            "-----------------------------\n",
            "@umirf1 Umir 🇵🇰 giving his football opinions https://t.co/Qe5VM9qveM\n",
            "-----------------------------\n",
            "Ronaldinho #Barcelon̔a Football Poster  ✌\n",
            "\n",
            "#chiefs #fidelisadmortem #taylorswift13 #edrs2022 #foodinsecurity #weightstigma #gamedev #jarpug \n",
            "\n",
            "👉https://t.co/FF0ske0FQW\n",
            "-----------------------------\n",
            "Took a half day off work today. Finally gonna catch a Thursday Night Football game on tv for once.\n",
            "-----------------------------\n",
            "@BostonGlobe @RonDeSantisFL \n",
            "Totally disgusting.  Sick and tired of Republicons using Latinos as a politically football. Can't wait to vote in the November election. Winter is coming pendejos.\n",
            "-----------------------------\n",
            "It’s Thursday and football 🏈 is back!!\n",
            "\n",
            "What do you like tonight?\n",
            "\n",
            "#GamblingTwitter #TNF #NFL\n",
            "-----------------------------\n"
          ]
        }
      ]
    },
    {
      "cell_type": "markdown",
      "source": [
        "Please notice Twitter API has a limit on how many times a user can send request to their data every 15 minutes. So please don't run the code too many times at the same time or use For/While loop to execute the above code. \n",
        "\n",
        "If you can see some tweets printed out, that means your scrapping tool **tweepy** is successfully set up. \n",
        "\n",
        "Before moving on, please read the following links to know how the above function work and how to write a specific query.\n",
        "\n",
        "[query with Twitter API](https://developer.twitter.com/en/docs/twitter-api/tweets/search/integrate/build-a-query)\n",
        "\n",
        "[search_recent_tweets](https://docs.tweepy.org/en/latest/client.html#tweepy.Client.search_recent_tweets)"
      ],
      "metadata": {
        "id": "hYhKJ9MmoWhQ"
      }
    },
    {
      "cell_type": "markdown",
      "source": [
        "The maximum tweets we could scrap from running the function once is 10-100. To allow scrapping for more data, we could run pagination."
      ],
      "metadata": {
        "id": "C4yaxlbZp8sc"
      }
    },
    {
      "cell_type": "code",
      "source": [
        "query = 'football -is:retweet'\n",
        "tweets = list(tweepy.Paginator(client.search_recent_tweets, query=query, tweet_fields=['context_annotations', 'created_at'], max_results=100).flatten(limit=1000))\n",
        "print(\"{} tweets are collected.\".format(len(tweets)))"
      ],
      "metadata": {
        "id": "_oJAQTSmreW3",
        "colab": {
          "base_uri": "https://localhost:8080/"
        },
        "outputId": "3e836840-0f4c-485f-e134-3c13c24758d7"
      },
      "execution_count": null,
      "outputs": [
        {
          "output_type": "stream",
          "name": "stdout",
          "text": [
            "1000 tweets are collected.\n"
          ]
        }
      ]
    },
    {
      "cell_type": "markdown",
      "source": [
        "For more features with the scrapping tool, please refer to the [article](https://dev.to/twitterdev/a-comprehensive-guide-for-using-the-twitter-api-v2-using-tweepy-in-python-15d9). Remember there are some features unavailable to your account (Availability: Essential)."
      ],
      "metadata": {
        "id": "tcMOELa4tyhp"
      }
    },
    {
      "cell_type": "markdown",
      "source": [
        "Lastly, let's save our scrapped tweets into a file.\n",
        "\n",
        "If you are using Google Colab, first, mount your Google Drive with the icon on the left hand side.\n",
        "\n",
        "Then, locate the path to save by right clicking the folder to save -> copy path.\n",
        "\n",
        "Change the value of 'driveFolderDirectory' below with your copied path."
      ],
      "metadata": {
        "id": "duDUCGNyw-TZ"
      }
    },
    {
      "cell_type": "code",
      "source": [
        "import csv\n",
        "\n",
        "driveFolderDirectory = '/content/drive/MyDrive/Sophomore(22-23)/CS505/CS505_Data/' # if your are not using Google Colab, edit the value directly here.\n",
        "savedFileName = 'tweets.csv'\n",
        "pathToSave = driveFolderDirectory + savedFileName\n",
        "\n",
        "\n",
        "\n",
        "with open(pathToSave, 'w', newline='') as csvfile:\n",
        "  fieldnames = ['idx','tweetId', 'tweetText']\n",
        "  writer = csv.DictWriter(csvfile, fieldnames=fieldnames)\n",
        "  writer.writeheader()\n",
        "  for i,tweet in enumerate(tweets):\n",
        "    writer.writerow({'idx': i, 'tweetId': tweet.id,'tweetText': tweet.data['text']})\n"
      ],
      "metadata": {
        "id": "f6XFAFDcvKAN"
      },
      "execution_count": null,
      "outputs": []
    },
    {
      "cell_type": "markdown",
      "source": [
        "Now, let's test if you know what your are doing. Get 10000 tweets mentioned 'nft' **written in English**. The tweet should **not be a re-tweet** and there is **no link** in it. Save the them in a .csv file with their **tweet id**, **created time**, and **tweet text**."
      ],
      "metadata": {
        "id": "RVell1Cb3rhf"
      }
    },
    {
      "cell_type": "code",
      "source": [
        "# IMPLEMENT YOUR CODE  HERE #\n",
        "# gets 10,000 tweets that mention nft, in the language english, without links, and isn't a retweet #\n",
        "\n",
        "query = \"nft lang:en -has:links -is:retweet\"\n",
        "nftTweets = list(tweepy.Paginator(client.search_recent_tweets, query = query, tweet_fields=['context_annotations', 'created_at'], max_results=100).flatten(limit=10000))\n",
        "\n",
        "print(\"{} tweets are collected.\".format(len(nftTweets)))"
      ],
      "metadata": {
        "id": "-loUP25IM4ZW",
        "colab": {
          "base_uri": "https://localhost:8080/"
        },
        "outputId": "eb602b16-58ff-4af2-ea96-154c7cf62a74"
      },
      "execution_count": null,
      "outputs": [
        {
          "output_type": "stream",
          "name": "stdout",
          "text": [
            "10000 tweets are collected.\n"
          ]
        }
      ]
    },
    {
      "cell_type": "code",
      "source": [
        "# Saving the tweets to a file #\n",
        "\n",
        "driveFolderDirectory = '/content/drive/MyDrive/Sophomore(22-23)/CS505/CS505_Data/'\n",
        "savedFileName = 'nfttweets.csv'\n",
        "pathToSave = driveFolderDirectory + savedFileName\n",
        "\n",
        "with open(pathToSave, 'w', newline='') as csvfile:\n",
        "  fieldnames = ['idx', 'tweetId', 'tweetText']\n",
        "  writer = csv.DictWriter(csvfile, fieldnames = fieldnames)\n",
        "  writer.writeheader()\n",
        "  for i, tweet in enumerate(nftTweets):\n",
        "    writer.writerow({'idx':i, 'tweetId':tweet.id, 'tweetText':tweet.data['text']})\n"
      ],
      "metadata": {
        "id": "RSnc7SX2f-8O"
      },
      "execution_count": null,
      "outputs": []
    },
    {
      "cell_type": "markdown",
      "source": [
        "Next, we are going to learn how to scrap data from a Wikipedia page:\n",
        "\n",
        "https://en.wikipedia.org/wiki/Non-fungible_token\n",
        "\n",
        "With requests and BeautifulSoup.\n",
        "\n"
      ],
      "metadata": {
        "id": "RvL8BW4bjj-d"
      }
    },
    {
      "cell_type": "code",
      "source": [
        "# First, let's installed the required libraries, i.e. requests and BeautifulSoup\n",
        "!pip install requests\n",
        "#BeautifulSoup should have been installed in Google Colab, if not please run: !pip install beautifulsoup4"
      ],
      "metadata": {
        "id": "NYp7clxskNBz",
        "colab": {
          "base_uri": "https://localhost:8080/"
        },
        "outputId": "6d701059-11fb-41e5-91dd-f70729522c43"
      },
      "execution_count": null,
      "outputs": [
        {
          "output_type": "stream",
          "name": "stdout",
          "text": [
            "Looking in indexes: https://pypi.org/simple, https://us-python.pkg.dev/colab-wheels/public/simple/\n",
            "Requirement already satisfied: requests in /usr/local/lib/python3.7/dist-packages (2.28.1)\n",
            "Requirement already satisfied: idna<4,>=2.5 in /usr/local/lib/python3.7/dist-packages (from requests) (2.10)\n",
            "Requirement already satisfied: charset-normalizer<3,>=2 in /usr/local/lib/python3.7/dist-packages (from requests) (2.1.1)\n",
            "Requirement already satisfied: urllib3<1.27,>=1.21.1 in /usr/local/lib/python3.7/dist-packages (from requests) (1.24.3)\n",
            "Requirement already satisfied: certifi>=2017.4.17 in /usr/local/lib/python3.7/dist-packages (from requests) (2022.6.15)\n"
          ]
        }
      ]
    },
    {
      "cell_type": "markdown",
      "source": [
        "Since you already have some experience in scraping data, this time I will leave some useful reading materials and a skeleton code for you to fill in and scrap the following data:\n",
        "\n",
        "First, scrape the \n",
        "contents of this article in Wikipedia:\n",
        "https://en.wikipedia.org/wiki/Pok%C3%A9mon. By saying \"contents\", we only refer to those texts that explains the idea of the title of the page, i.e. the \"article\" part of the webpage. See https://en.wikipedia.org/wiki/Wikipedia:What is an article%3F for what is defined as an article in Wikipedia. (We do not require you to scrap table(s) in the wikipedia at this point, but you should think about how to scrap them from the webpage as well, and how they can benefit training your language model later on.)\n",
        "\n",
        "Second, scrape the contents of all articles within Wikipedia that are linked from only the content of this page i.e., you\n",
        "don’t need to scrape the sidebar—you will have to look at the retrieved HTML of the first page and see the pattern\n",
        "you can use to obtain links from this article’s content to other Wikipedia articles.\n",
        "\n",
        "**Useful Materials:**\n",
        "\n",
        "To get started, please read through the following materials to get an idea how to scrap data from a certain webpage.\n",
        "\n",
        "If you are not familiar with HTML file or its format, please quickly go through the tutorial in [W3School](https://www.w3schools.com/html/).\n",
        "\n",
        "An [introduction](https://www.learndatasci.com/tutorials/ultimate-guide-web-scraping-w-python-requests-and-beautifulsoup/) of how to scrap and parse information from a webpage.\n",
        "\n",
        "[BeautifulSoup documentation](https://www.crummy.com/software/BeautifulSoup/bs4/doc/) (helpful when you want to know how to use certain functions in BeautifulSoup)\n",
        "\n",
        "Please remember to set a delay time (>=1s) between each request to scrap a webpage, to avoid getting banned from Wikipedia for scraping too fast that could break their server. "
      ],
      "metadata": {
        "id": "unVu3GNFtEDF"
      }
    },
    {
      "cell_type": "code",
      "source": [
        "#First, import the needed libraries for scraping data from Wikipedia webpages.\n",
        "\n",
        "import requests\n",
        "from bs4 import BeautifulSoup\n",
        "import time # for setting up a delay on getting htmls from wiki server.\n",
        "from tqdm import tqdm\n",
        "\n",
        "# First, get the page info from wiki server given an URL.\n",
        "def getPageFromWiki(url):\n",
        "  # you should return a soup object with the specified URL\n",
        "  # IMPLEMENT YOUR CODE HERE: #\n",
        "  r = requests.get(url)\n",
        "  soup = BeautifulSoup(r.content, 'html.parser')\n",
        "  return soup\n",
        "\n",
        "# Second, get the title of the wiki page\n",
        "def getHeading(soup):\n",
        "  heading = \"\"\n",
        "  # you should return the title of the wiki page with the soup object you initiated from getPageFromWiki\n",
        "  heading = soup.select_one('#firstHeading').contents[0]\n",
        "  return heading\n",
        "\n",
        "# Third, get the article part of the wiki page \n",
        "def getContent(page):\n",
        "  content = \"\"\n",
        "  # you should return the article part of the wiki page with the soup object you initiated from getPageFromWiki\n",
        "  # since there are multiple paragraphs, you should merge them together into one long string.\n",
        "  # IMPLEMENT YOUR CODE HERE: #\n",
        "  paragraphs = page.select('#content p')\n",
        "  for p in paragraphs:\n",
        "    content += p.text.strip()\n",
        "  return content\n",
        "\n",
        "# Fourth, get the links that the article part mentioned and specifically, linking to other wiki pages.\n",
        "def getLinks(page):\n",
        "  linksDict = {}\n",
        "  # you should return the links mentioned in article part of the wiki page with the soup object you initiated from getPageFromWiki\n",
        "  # you should return a dictionary, with keys are the titles of the linked pages, and the values are the links.\n",
        "  # IMPLEMENT YOUR CODE HERE: #\n",
        "  links = page.select('#bodyContent a[href^=\"/wiki/\"]')\n",
        "  link_start = \"https://en.wikipedia.org\"\n",
        "  for link in links:\n",
        "    keys = list(link.attrs.keys())\n",
        "    if ('title' in keys and not 'Category' in link['title'] and not ''):\n",
        "      linksDict[link.text] = (link_start + link['href'])\n",
        "  return linksDict\n"
      ],
      "metadata": {
        "id": "pJA2RWPfSSTi"
      },
      "execution_count": 112,
      "outputs": []
    },
    {
      "cell_type": "code",
      "source": [
        "# Once you've implemented the above functions, run the following piece to see if a dictionary that contains the wiki articles we scraped.\n",
        "# Run a for loop to get all the article contents from Wikipedia.\n",
        "pageDict = {}\n",
        "\n",
        "page = getPageFromWiki('https://en.wikipedia.org/wiki/Pok%C3%A9mon') # scrap the main page we want. \n",
        "header = getHeading(page)\n",
        "content = getContent(page)\n",
        "pageDict[header] = content\n",
        "print(pageDict)\n",
        "\n",
        "linksDict = getLinks(page) # get the links contained in the article part of the page.\n",
        "print(\"a set of {} links are found.\".format(len(linksDict)))\n",
        "\n",
        "print(linksDict)\n",
        "\n",
        "for title in tqdm(list(linksDict.keys())): # set up a loop to , set a delay at each iteration\n",
        "  url = linksDict[title]\n",
        "  page = getPageFromWiki(url)\n",
        "  header = getHeading(page)\n",
        "  content = getContent(page)\n",
        "  pageDict[header] = content\n",
        "  time.sleep(1) # Remember to set a delay >=1 second so you won't break the server.\n",
        "\n",
        "print(\"a size of {} content dictionary is built.\".format(len(pageDict)))"
      ],
      "metadata": {
        "id": "Ivz07zWjOrwN",
        "colab": {
          "base_uri": "https://localhost:8080/"
        },
        "outputId": "c2caac48-fe0f-4a4a-be2f-23ed0d002db3"
      },
      "execution_count": 113,
      "outputs": [
        {
          "output_type": "stream",
          "name": "stdout",
          "text": [
            "{<i>Pokémon</i>: 'Pokémon[a][1][2][3] (an abbreviation for Pocket Monsters[b] in Japan) is a Japanese media franchise managed by The Pokémon Company, a company founded by Nintendo, Game Freak, and Creatures. The franchise was created by Satoshi Tajiri in 1996,[4] and is centered on fictional creatures called \"Pokémon\". In Pokémon, humans, known as Pokémon Trainers, catch and train Pokémon to battle other Pokémon for sport. All media works within the franchise are set in the Pokémon universe. The English slogan for the franchise is \"Gotta Catch ‘Em All!\".[5][6] There are currently 920 Pokémon species.[7]The franchise began as Pocket Monsters: Red and Green (later released outside of Japan as Pokémon Red and Blue), a pair of video games for the original Game Boy handheld system that were developed by Game Freak and published by Nintendo in February 1996. It soon became a media mix franchise adapted into various different media.[8] Pokémon is estimated to be the highest-grossing media franchise of all time. The Pokémon video game series is the third best-selling video game franchise of all time with more than 440 million copies sold[9] and one\\xa0billion mobile downloads.[10] The Pokémon video game series spawned an anime television series that has become the most successful video game adaptation of all time[11] with over 20 seasons and 1,000 episodes in 192 countries.[9] The Pokémon Trading Card Game is the highest-selling trading card game of all time[12] with over 43.2\\xa0billion cards sold. In addition, the Pokémon franchise includes the world\\'s top-selling toy brand,[13] an anime film series, a live-action film (Detective Pikachu), books, manga comics, music, merchandise, and a temporary theme park. The franchise is also represented in other Nintendo media, such as the Super Smash Bros. series, where various Pokémon characters are playable.In 1998, Nintendo spent $25 million promoting Pokémon in the United States in partnership with Hasbro, KFC, and others.[14] Nintendo initially feared that Pokémon was too Japanese for Western tastes but Alfred Kahn, then CEO of 4Kids Entertainment convinced the company otherwise.[15] The one who spotted Pokémon\\'s potential in the United States was Kahn\\'s colleague Thomas Kenney.[16]In November 2005, 4Kids Entertainment, which had managed the non-game related licensing of Pokémon, announced that it had agreed not to renew the Pokémon representation agreement. The Pokémon Company International oversees all Pokémon licensing outside Asia.[17] In 2006, the franchise celebrated its tenth anniversary.[18] In 2016, the Pokémon Company celebrated Pokémon\\'s 20th anniversary by airing an ad during Super Bowl 50 in January and re-releasing the first Pokémon video games 1996 Game Boy games Pokémon Red, Green (only in Japan), and Blue, and the 1998 Game Boy Color game Pokémon Yellow for the Nintendo 3DS on February 26, 2016.[19][20] The mobile augmented reality game Pokémon Go was released in July 2016.[21] The first live-action film in the franchise, Pokémon Detective Pikachu, based on the 2018 Nintendo 3DS spin-off game Detective Pikachu, was released in 2019.[22] The eighth generation of core series games began with Pokémon Sword and Shield, released worldwide on the Nintendo Switch on November 15, 2019.To celebrate its 25th anniversary, the company released two additional titles for the Nintendo Switch: Pokémon Brilliant Diamond and Shining Pearl, remakes of the Nintendo DS Pokémon Diamond and Pearl games, on November 19, 2021, and its \"premake\" Pokémon Legends: Arceus, which was subsequently released on January 28, 2022.[23][24]The most recent games in the main series, Pokémon Scarlet and Violet began the ninth and latest generation and will be released worldwide for the Nintendo Switch in late 2022.The name Pokémon is a syllabic abbreviation of the Japanese brand Pocket Monsters.[25] The term \"Pokémon\", in addition to referring to the Pokémon franchise itself, also collectively refers to the many fictional species that have made appearances in Pokémon media as of the release of the eighth generation titles Pokémon Sword and Shield. \"Pokémon\" is identical in the singular and plural, as is each individual species name; it is and would be grammatically correct to say \"one Pokémon\" and \"many Pokémon\", as well as \"one Pikachu\" and \"many Pikachu\".[26]Pokémon executive director Satoshi Tajiri first thought of Pokémon, albeit with a different concept and name, around 1989, when the Game Boy was released. The concept of the Pokémon universe, in both the video games and the general fictional world of Pokémon, stems from the hobby of insect collecting, a popular pastime which Tajiri enjoyed as a child.[27] Players are designated as Pokémon Trainers and have three general goals: to complete the regional Pokédex by collecting all of the available Pokémon species found in the fictional region where a game takes place, to complete the national Pokédex by transferring Pokémon from other regions, and to train a team of powerful Pokémon from those they have caught to compete against teams owned by other Trainers so they may eventually win the Pokémon League and become the regional Champion. These themes of collecting, training, and battling are present in almost every version of the Pokémon franchise, including the video games, the anime and manga series, and the Pokémon Trading Card Game (also known as TCG).In most incarnations of the Pokémon universe, a Trainer who encounters a wild Pokémon has the ability to capture that Pokémon by throwing a specially designed, mass-producible spherical tool called a Poké Ball at it. If the Pokémon is unable to escape the confines of the Poké Ball, it is considered to be under the ownership of that Trainer. Afterwards, it will obey whatever commands it receives from its new Trainer, unless the Trainer demonstrates such a lack of experience that the Pokémon would rather act on its own accord. Trainers can send out any of their Pokémon to wage non-lethal battles against other Pokémon; if the opposing Pokémon is wild, the Trainer can capture that Pokémon with a Poké Ball, increasing their collection of creatures. In Pokémon Go, and in Pokémon: Let\\'s Go, Pikachu! and Let\\'s Go, Eevee!, wild Pokémon encountered by players can be caught in Poké Balls, but most cannot be battled. Pokémon already owned by other Trainers cannot be captured, except under special circumstances in certain side games. If a Pokémon fully defeats an opponent in battle so that the opponent is knocked out (\"faints\"), the winning Pokémon gains experience points and may level up. Beginning with Pokémon X and Y, experience points are also gained from catching Pokémon in Poké Balls. When leveling up, the Pokémon\\'s battling aptitude statistics (\"stats\", such as \"Attack\" and \"Speed\") increase. At certain levels, the Pokémon may also learn new moves, which are techniques used in battle. In addition, many species of Pokémon can undergo a form of metamorphosis and transform into a similar but stronger species of Pokémon, a process called evolution; this process occurs spontaneously under differing circumstances, and is itself a central theme of the series. Some species of Pokémon may undergo a maximum of two evolutionary transformations, while others may undergo only one, and others may not evolve at all. For example, the Pokémon Pichu may evolve into Pikachu, which in turn may evolve into Raichu, following which no further evolutions may occur. Pokémon X and Y introduced the concept of \"Mega Evolution,\" by which certain fully evolved Pokémon may temporarily undergo an additional evolution into a stronger form for the purpose of battling; this evolution is considered a special case, and unlike other evolutionary stages, is reversible.In the main series, each game\\'s single-player mode requires the Trainer to raise a team of Pokémon to defeat many non-player character (NPC) Trainers and their Pokémon. Each game lays out a somewhat linear path through a specific region of the Pokémon world for the Trainer to journey through, completing events and battling opponents along the way (including foiling the plans of an evil team of Pokémon Trainers who serve as antagonists to the player). Excluding Pokémon Sun and Moon and Pokémon Ultra Sun and Ultra Moon, the games feature eight powerful Trainers, referred to as Gym Leaders, that the Trainer must defeat in order to progress. As a reward, the Trainer receives a Gym Badge, and once all eight badges are collected, the Trainer is eligible to challenge the region\\'s Pokémon League, where four talented trainers (referred to collectively as the \"Elite Four\") challenge the Trainer to four Pokémon battles in succession. If the trainer can overcome this gauntlet, they must challenge the Regional Champion, the master Trainer who had previously defeated the Elite Four. Any Trainer who wins this last battle becomes the new champion.Pokémon is set in the fictional Pokémon universe. There are numerous regions that have appeared in the various media of the Pokémon franchise. There are 8 main series regions set in the main series games: Kanto, Johto, Hoenn, Sinnoh/Hisui, Unova, Kalos, Alola, and Galar. Each of the eight generations of the main series releases focuses on a new region. Every region consists of several cities and towns that the player must explore in order to overcome many waiting challenges, such as Gyms, Contests and villainous teams. At different locations within each region, the player can find different types of Pokémon, as well as helpful items and characters. Different regions are not accessible from one another at all within a single game, only with the exception of Kanto and Johto being linked together in Pokémon Gold, Silver, Crystal, HeartGold and SoulSilver versions. There are also regions set in spinoff games and two islands in the Pokémon anime (Orange Islands and Decolore Islands), all still set within the same fictional universe.Each main series region in the Pokémon universe is based on a real world location. The first four regions introduced are based off of locations in Japan, being Kantō, Kansai, Kyushu, and Hokkaidō, with later regions being based on parts on New York City, France, Hawaii, the United Kingdom, and the Iberian Peninsula.[28][29]All of the licensed Pokémon properties overseen by the Pokémon Company International are divided roughly by generation. These generations are roughly chronological divisions by release; every several years, when a sequel to the 1996 role-playing video games Pokémon Red and Green is released that features new Pokémon, characters, and gameplay concepts, that sequel is considered the start of a new generation of the franchise. The main Pokémon video games and their spin-offs, the anime, manga, and trading card game are all updated with the new Pokémon properties each time a new generation begins.[30] Some Pokémon from the newer games appear in anime episodes or films months, or even years, before the game they were programmed for came out. The first generation began in Japan with Pokémon Red and Green on the Game Boy. As of 2022, there are nine generations of main series video games. The most recent games in the main series, Pokémon Scarlet and Violet began the ninth and latest generation and will be released worldwide for the Nintendo Switch on November 18, 2022.[31][32][33]Kanto regionJohto regionKanto regionHoenn regionKanto regionSinnoh regionJohto regionKanto regionUnova regionKalos regionHoenn regionAlola regionKanto regionGalar regionSinnoh/Hisui regionPaldea regionPokémon, also known as Pokémon the Series to Western audiences since the year 2013, is an anime television series based on the Pokémon video game series. It was originally broadcast on TV Tokyo in 1997. More than 1,000 episodes of the anime has been produced and aired,[39] divided into 7 series in Japan and 22 seasons internationally. It is one of the longest currently running anime series.[39]The anime follows the quest of the main character, Ash Ketchum (known as Satoshi in Japan), a Pokémon Master in training, as he and a small group of friends travel around the world of Pokémon along with their Pokémon partners.[40]Various children\\'s books, collectively known as Pokémon Junior, are also based on the anime.[41]An eight part anime series called Pokémon: Twilight Wings aired on YouTube in 2020.[42] The series was animated by Studio Colorido.[43]In July 2021, it was announced that a live action Pokémon series is in early development at Netflix with Joe Henderson attached to write and executive produce.[44]An eight part anime series in celebration of the Pokémon 25th anniversary called Pokémon Evolutions aired on YouTube in 2021.[45]There have been 23 animated theatrical Pokémon films (latest film to be released on December 25, 2020[46]), which have been directed by Kunihiko Yuyama and Tetsuo Yajima, and distributed in Japan by Toho since 1998. The pair of films, Pokémon the Movie: Black—Victini and Reshiram and White—Victini and Zekrom are considered together as one film. Collectibles, such as promotional trading cards, have been available with some of the films. Since the 20th film, the films have been set in an alternate continuity separate from the anime series.Pokémon CDs have been released in North America, some of them in conjunction with the theatrical releases of the first three and the 20th Pokémon films. These releases were commonplace until late 2001. On March 27, 2007, a tenth anniversary CD was released containing 18 tracks from the English dub; this was the first English-language release in over five years. Soundtracks of the Pokémon feature films have been released in Japan each year in conjunction with the theatrical releases. In 2017, a soundtrack album featuring music from the North American versions of the 17th through 20th movies was released..mw-parser-output .citation{word-wrap:break-word}.mw-parser-output .citation:target{background-color:rgba(0,127,255,0.133)}^  The exact date of release is unknown.^  Featuring music from Pokémon the Movie: Diancie and the Cocoon of Destruction, Pokémon the Movie: Hoopa and the Clash of Ages, Pokémon the Movie: Volcanion and the Mechanical Marvel, and Pokémon the Movie: I Choose You!The Pokémon Trading Card Game (TCG) is a collectible card game with a goal similar to a Pokémon battle in the video game series. Players use Pokémon cards, with individual strengths and weaknesses, in an attempt to defeat their opponent by \"knocking out\" their Pokémon cards.[49] The game was published in North America by Wizards of the Coast in 1999.[50] With the release of the Game Boy Advance video games Pokémon Ruby and Sapphire, the Pokémon Company took back the card game from Wizards of the Coast and started publishing the cards themselves.[50] The Expedition expansion introduced the Pokémon-e Trading Card Game, where the cards (for the most part) were compatible with the Nintendo e-Reader. Nintendo discontinued its production of e-Reader compatible cards with the release of FireRed and LeafGreen. In 1998, Nintendo released a Game Boy Color version of the trading card game in Japan; Pokémon Trading Card Game was subsequently released to the US and Europe in 2000. The game included digital versions of cards from the original set of cards and the first two expansions (Jungle and Fossil), as well as several cards exclusive to the game. A sequel was released in Japan in 2001.[51]There are various Pokémon manga series, four of which were released in English by Viz Media, and seven of them released in English by Chuang Yi. The manga series vary from game-based series to being based on the anime and the Trading Card Game. Original stories have also been published. As there are several series created by different authors, most Pokémon manga series differ greatly from each other and other media, such as the anime.[example  needed] Pokémon Pocket Monsters and Pokémon Adventures are the two manga in production since the first generation.A Pokémon-styled Monopoly board game was released in August 2014.[60]In July 2021, it was announced that a live-action Pokémon series is reportedly in development at Netflix. Joe Henderson, showrunner of Lucifer, is signed on as writer and executive producer.[61]Pokémon has been criticized by some fundamentalist Christians over perceived occult and violent themes and the concept of \"Pokémon evolution\", which they feel goes against the Biblical creation account in Genesis.[62] Sat2000, a satellite television station based in Vatican City, has countered that the Pokémon Trading Card Game and video games are \"full of inventive imagination\" and have no \"harmful moral side effects\".[63][64] In the United Kingdom, the \"Christian Power Cards\" game was introduced in 1999 by David Tate who stated, \"Some people aren\\'t happy with Pokémon and want an alternative, others just want Christian games.\" The game was similar to the Pokémon Trading Card Game but used Biblical figures.[65]In 1999, Nintendo stopped manufacturing the Japanese version of the \"Koga\\'s Ninja Trick\" trading card because it depicted a manji, a traditionally Buddhist symbol with no negative connotations. The Jewish civil rights group Anti-Defamation League complained because the symbol is the reverse of a swastika, a Nazi symbol. The cards were intended for sale in Japan only, but the popularity of Pokémon led to import into the United States with approval from Nintendo. The Anti-Defamation League understood that the portrayed symbol was not intended to offend and acknowledged the sensitivity that Nintendo showed by removing the product.[66][67]In 1999, two nine-year-old boys from Merrick, New York, sued Nintendo because they claimed the Pokémon Trading Card Game caused their problematic gambling.[68]In 2001, Saudi Arabia banned Pokémon games and the trading cards, alleging that the franchise promoted Zionism by displaying the Star of David in the trading cards (the Colorless energy from the Pokémon Trading Card Game resembles a six-pointed star) as well as other religious symbols such as crosses they associated with Christianity and triangles they associated with Freemasonry; the games also involved gambling, which is in violation of Muslim doctrine.[69][70]Pokémon has also been accused of promoting materialism.[71]In 2012, PETA criticized the concept of Pokémon as supporting cruelty to animals. PETA compared the game\\'s concept, of capturing animals and forcing them to fight, to cockfights, dog fighting rings and circuses, events frequently criticized for cruelty to animals. PETA released a game spoofing Pokémon where the Pokémon battle their trainers to win their freedom.[72] PETA reaffirmed their objections in 2016 with the release of Pokémon Go, promoting the hashtag #GottaFreeThemAll.[73]On December 16, 1997, more than 635 Japanese children were admitted to hospitals with epileptic seizures.[74] It was determined the seizures were caused by watching an episode of Pokémon \"Dennō Senshi Porygon\", (most commonly translated \"Electric Soldier Porygon\", season 1, episode 38); as a result, this episode has not been aired since. In this particular episode, there were bright explosions with rapidly alternating blue and red color patterns.[75] It was determined in subsequent research that these strobing light effects cause some individuals to have epileptic seizures, even if the person had no previous history of epilepsy.[76] This incident is a common focus of Pokémon-related parodies in other media, and was lampooned by The Simpsons episode \"Thirty Minutes over Tokyo\" in a short cameo[77] and the South Park episode \"Chinpokomon\",[78] among others.In March 2000, Morrison Entertainment Group, a toy developer based at Manhattan Beach, California, sued Nintendo over claims that Pokémon infringed on its own Monster in My Pocket characters. A judge ruled there was no infringement and Morrison appealed the ruling. On February 4, 2003, the U.S. Court of Appeals for the Ninth Circuit affirmed the decision by the District Court to dismiss the suit.[79]Within its first two days of release, Pokémon Go raised safety concerns among players. Multiple people also suffered minor injuries from falling while playing the game due to being distracted.[80]Multiple police departments in various countries have issued warnings, some tongue-in-cheek, regarding inattentive driving, trespassing, and being targeted by criminals due to being unaware of one\\'s surroundings.[81][82] People have suffered various injuries from accidents related to the game,[83][84][85][86] and Bosnian players have been warned to stay out of minefields left over from the 1990s Bosnian War.[87] On July 20, 2016, it was reported that an 18-year-old boy in Chiquimula, Guatemala, was shot and killed while playing the game in the late evening hours. This was the first reported death in connection with the app. The boy\\'s 17-year-old cousin, who was accompanying the victim, was shot in the foot. Police speculated that the shooters used the game\\'s GPS capability to find the two.[88]Pokémon, being a globally popular franchise, has left a significant mark on today\\'s popular culture. The various species of Pokémon have become pop culture icons; examples include two different Pikachu balloons in the Macy\\'s Thanksgiving Day Parade, Pokémon-themed airplanes operated by All Nippon Airways, merchandise items, and a traveling theme park that was in Nagoya, Japan in 2005 and in Taipei in 2006. Pokémon also appeared on the cover of the U.S. magazine Time in 1999.[89] The Comedy Central show Drawn Together has a character named Ling-Ling who is a parody of Pikachu.[90] Several other shows such as The Simpsons,[91] South Park[92] and Robot Chicken[93] have made references and spoofs of Pokémon, among other series. Pokémon was featured on VH1\\'s I Love the \\'90s: Part Deux. A live action show based on the anime called Pokémon Live! toured the United States in late 2000.[94] Jim Butcher cites Pokémon as one of the inspirations for the Codex Alera series of novels.[95]Pokémon has even made its mark in the realm of science. This includes animals named after Pokémon, such as Stentorceps weedlei (named after the Pokémon Weedle for its resemblance) and Chilicola charizard (named after the Pokémon Charizard) as well as Binburrum articuno, Binburrum zapdos, and Binburrum moltres (named after the Pokémon Articuno, Zapdos, and Moltres, respectively).[96][97] There is also a protein named after Pikachu, called Pikachurin.In November 2001, Nintendo opened a store called the Pokémon Center in New York, in Rockefeller Center,[98] modeled after the two other Pokémon Center stores in Tokyo and Osaka and named after a staple of the video game series. Pokémon Centers are fictional buildings where Trainers take their injured Pokémon to be healed after combat.[99] The store sold Pokémon merchandise on a total of two floors, with items ranging from collectible shirts to stuffed Pokémon plushies.[100] The store also featured a Pokémon Distributing Machine in which players would place their game to receive an egg of a Pokémon that was being given out at that time. The store also had tables that were open for players of the Pokémon Trading Card Game to duel each other or an employee. The store was closed and replaced by the Nintendo World Store on May 14, 2005.[101] Four Pokémon Center kiosks were put in malls in the Seattle area.[102] The Pokémon Center online store was relaunched on August 6, 2014.[103]Professor of education Joseph Tobin theorizes that the success of the franchise was due to the long list of names that could be learned by children and repeated in their peer groups. Its rich fictional universe provides opportunities for discussion and demonstration of knowledge in front of their peers. The names of the creatures were linked to its characteristics, which converged with the children\\'s belief that names have symbolic power. Children can pick their favourite Pokémon and affirm their individuality while at the same time affirming their conformance to the values of the group, and they can distinguish themselves from others by asserting what they liked and what they did not like from every chapter. Pokémon gained popularity because it provides a sense of identity to a wide variety of children, and lost it quickly when many of those children found that the identity groups were too big and searched for identities that would distinguish them into smaller groups.[104][page\\xa0needed]Pokémon\\'s history has been marked at times by rivalry with the Digimon media franchise that debuted at a similar time. Described as \"the other \\'mon\\'\" by IGN\\'s Juan Castro, Digimon has not enjoyed Pokémon\\'s level of international popularity or success, but has maintained a dedicated fanbase.[105] IGN\\'s Lucas M. Thomas stated that Pokémon is Digimon\\'s \"constant competition and comparison\", attributing the former\\'s relative success to the simplicity of its evolution mechanic as opposed to Digivolution.[106] The two have been noted for conceptual and stylistic similarities by sources such as GameZone.[107] A debate among fans exists over which of the two franchises came first.[108] In actuality, the first Pokémon media, Pokémon Red and Green, were released initially on February 27, 1996;[109] whereas the Digimon virtual pet was released on June 26, 1997.While Pokémon\\'s target demographic is children, early purchasers of Pokémon Omega Ruby and Alpha Sapphire were in their 20s.[110] Many fans are adults who originally played the games as children and had later returned to the series.[110]Numerous fan sites exist for the Pokémon franchise, including .mw-parser-output .vanchor>:target~.vanchor-text{background-color:#b1d2ff}Bulbagarden, a site hosting the wiki-based encyclopedia Bulbapedia,[111][112][113] and Serebii,[114] a news and reference website.[115] Large fan communities exist on other platforms, such as the subreddit r/pokemon, which has over 4 million subscribers.[116]A significant community around the Pokémon video games\\' metagame has existed for a long time, analyzing the best ways to use each Pokémon to their full potential in competitive battles. The most prolific competitive community is Smogon University, which has created a widely accepted tier-based battle system.[117]\\nSmogon is affiliated with an online Pokémon game called Pokémon Showdown, in which players create a team and battle against other players around the world using the competitive tiers created by Smogon.[118]In early 2014, an anonymous video streamer on Twitch launched Twitch Plays Pokémon, a small experiment trying to crowdsource playing subsequent Pokémon games, that started with the game Pokémon Red and has since included subsequent games in the series.[119][120]A study at Stanford Neurosciences published in Nature performed magnetic resonance imaging scans of 11 Pokémon experts and 11 controls, finding that seeing Pokémon stimulated activity in the visual cortex, in a different place than is triggered by recognizing faces, places, or words, demonstrating the brain\\'s ability to create such specialized areas.[121][122]A challenge called the Nuzlocke Challenge allows players to only capture the first Pokémon encountered in each area. Using rules from a webcomic originally named \"Pokémon Hard-Mode\", if they do not succeed in capturing that Pokémon, there are no second chances. When a Pokémon faints, it is considered \"dead\" and must be released or stored in the PC permanently.[123][124] If the player faints, the game is considered over, and the player must restart.[125] The original idea consisted of 2 to 3 rules that the community has built upon. There are many fan made Pokémon games that contain a game mode similar to the Nuzlocke Challenge, such as Pokémon Uranium.'}\n",
            "a set of 640 links are found.\n",
            "{'Pokémon (disambiguation)': 'https://en.wikipedia.org/wiki/Pok%C3%A9mon_(disambiguation)', 'Satoshi Tajiri': 'https://en.wikipedia.org/wiki/Satoshi_Tajiri', 'Ken Sugimori': 'https://en.wikipedia.org/wiki/Ken_Sugimori', 'Junichi Masuda': 'https://en.wikipedia.org/wiki/Junichi_Masuda', 'Pocket Monsters Red and Green': 'https://en.wikipedia.org/wiki/Pok%C3%A9mon_Red_and_Blue', 'Nintendo': 'https://en.wikipedia.org/wiki/Nintendo', 'Creatures': 'https://en.wikipedia.org/wiki/Creatures_(company)', 'Game Freak': 'https://en.wikipedia.org/wiki/Game_Freak', 'Pokémon Junior': 'https://en.wikipedia.org/wiki/Pok%C3%A9mon_Junior', 'list of Pokémon manga': 'https://en.wikipedia.org/wiki/List_of_Pok%C3%A9mon_manga', 'list of Pokémon films': 'https://en.wikipedia.org/wiki/List_of_Pok%C3%A9mon_films', 'Pikachu shorts': 'https://en.wikipedia.org/wiki/List_of_Pok%C3%A9mon_films#Pikachu_shorts', 'Generations': 'https://en.wikipedia.org/wiki/Pok%C3%A9mon_Generations', 'Twilight Wings': 'https://en.wikipedia.org/wiki/Pok%C3%A9mon:_Twilight_Wings', 'Evolutions': 'https://en.wikipedia.org/wiki/Pok%C3%A9mon_Evolutions', 'Hisuian Snow': 'https://en.wikipedia.org/wiki/Pok%C3%A9mon:_Hisuian_Snow', 'Pokétoon': 'https://en.wikipedia.org/wiki/Pok%C3%A9toon', 'Pokémon': 'https://en.wikipedia.org/wiki/Pok%C3%A9mon_(TV_series)', 'Pokémon Chronicles': 'https://en.wikipedia.org/wiki/Pok%C3%A9mon_Chronicles', 'Mewtwo Returns': 'https://en.wikipedia.org/wiki/Pok%C3%A9mon:_Mewtwo_Returns', 'The Mastermind of Mirage Pokémon': 'https://en.wikipedia.org/wiki/Pok%C3%A9mon:_The_Mastermind_of_Mirage_Pok%C3%A9mon', 'Pokémon Origins': 'https://en.wikipedia.org/wiki/Pok%C3%A9mon_Origins', 'Pokémon Live!': 'https://en.wikipedia.org/wiki/Pok%C3%A9mon_Live!', 'Pokémon Trading Card Game': 'https://en.wikipedia.org/wiki/Pok%C3%A9mon_Trading_Card_Game_(video_game)', 'Pokémon Trading Figure Game': 'https://en.wikipedia.org/wiki/Pok%C3%A9mon_Trading_Figure_Game', 'Pokémon video game series': 'https://en.wikipedia.org/wiki/Pok%C3%A9mon_(video_game_series)', 'Super Smash Bros.': 'https://en.wikipedia.org/wiki/Super_Smash_Bros.', 'Pokémon 2.B.A. Master': 'https://en.wikipedia.org/wiki/Pok%C3%A9mon_2.B.A._Master', 'list of Pokémon theme songs': 'https://en.wikipedia.org/wiki/List_of_Pok%C3%A9mon_theme_songs', 'Poképark': 'https://en.wikipedia.org/wiki/Pok%C3%A9park', '': 'https://en.wikipedia.org/wiki/Pok%C3%A9mon', 'IPA': 'https://en.wikipedia.org/wiki/International_Phonetic_Alphabet', 'rendering support': 'https://en.wikipedia.org/wiki/Help:IPA#Rendering_issues', 'question marks, boxes, or other symbols': 'https://en.wikipedia.org/wiki/Specials_(Unicode_block)#Replacement_character', 'Unicode': 'https://en.wikipedia.org/wiki/Unicode', 'Help:IPA': 'https://en.wikipedia.org/wiki/Help:IPA', 'Japan': 'https://en.wikipedia.org/wiki/Portal:Japan', 'media franchise': 'https://en.wikipedia.org/wiki/Media_franchise', 'The Pokémon Company': 'https://en.wikipedia.org/wiki/The_Pok%C3%A9mon_Company', '\"Pokémon\"': 'https://en.wikipedia.org/wiki/List_of_Pok%C3%A9mon', 'Pokémon universe': 'https://en.wikipedia.org/wiki/Pok%C3%A9mon_universe', 'slogan': 'https://en.wikipedia.org/wiki/Slogan', 'Gotta Catch ‘Em All!': 'https://en.wikipedia.org/wiki/Pok%C3%A9mon_Theme', 'Pokémon species': 'https://en.wikipedia.org/wiki/List_of_Pok%C3%A9mon', 'Pocket Monsters: Red and Green': 'https://en.wikipedia.org/wiki/Pok%C3%A9mon_Red_and_Blue', 'Pokémon Red and Blue': 'https://en.wikipedia.org/wiki/Pok%C3%A9mon_Red_and_Blue', 'Game Boy': 'https://en.wikipedia.org/wiki/Game_Boy', 'media mix': 'https://en.wikipedia.org/wiki/Media_mix', 'highest-grossing media franchise': 'https://en.wikipedia.org/wiki/List_of_highest-grossing_media_franchises', 'best-selling video game franchise': 'https://en.wikipedia.org/wiki/Best-selling_video_game_franchise', 'mobile downloads': 'https://en.wikipedia.org/wiki/Mobile_game', 'anime television series': 'https://en.wikipedia.org/wiki/Pok%C3%A9mon_(anime)', 'video game adaptation': 'https://en.wikipedia.org/wiki/List_of_television_programs_based_on_video_games', 'over 20 seasons and 1,000 episodes': 'https://en.wikipedia.org/wiki/List_of_Pok%C3%A9mon_episodes', 'trading card game': 'https://en.wikipedia.org/wiki/Collectible_card_game', 'anime film series': 'https://en.wikipedia.org/wiki/List_of_Pok%C3%A9mon_films', 'Detective Pikachu': 'https://en.wikipedia.org/wiki/Detective_Pikachu_(film)', 'books': 'https://en.wikipedia.org/wiki/Pok%C3%A9mon_Junior', 'manga comics': 'https://en.wikipedia.org/wiki/List_of_Pok%C3%A9mon_manga', 'music': 'https://en.wikipedia.org/wiki/List_of_Pok%C3%A9mon_theme_songs', 'temporary theme park': 'https://en.wikipedia.org/wiki/Pok%C3%A9park', 'Timeline of Pokémon': 'https://en.wikipedia.org/wiki/Timeline_of_Pok%C3%A9mon', 'Hasbro': 'https://en.wikipedia.org/wiki/Hasbro', 'KFC': 'https://en.wikipedia.org/wiki/KFC', 'Alfred Kahn': 'https://en.wikipedia.org/wiki/Alfred_R._Kahn', '4Kids Entertainment': 'https://en.wikipedia.org/wiki/4Kids_Entertainment', 'Super Bowl 50': 'https://en.wikipedia.org/wiki/Super_Bowl_50', 'Pokémon Yellow': 'https://en.wikipedia.org/wiki/Pok%C3%A9mon_Yellow', 'Nintendo 3DS': 'https://en.wikipedia.org/wiki/Nintendo_3DS', 'augmented reality': 'https://en.wikipedia.org/wiki/Augmented_reality', 'Pokémon Go': 'https://en.wikipedia.org/wiki/Pok%C3%A9mon_Go', 'Pokémon Detective Pikachu': 'https://en.wikipedia.org/wiki/Pok%C3%A9mon_Detective_Pikachu', 'Pokémon Sword and Shield': 'https://en.wikipedia.org/wiki/Pok%C3%A9mon_Sword_and_Shield', 'Nintendo Switch': 'https://en.wikipedia.org/wiki/Nintendo_Switch', '25th anniversary': 'https://en.wikipedia.org/wiki/Pok%C3%A9mon_25th_Anniversary', 'Pokémon Brilliant Diamond and Shining Pearl': 'https://en.wikipedia.org/wiki/Pok%C3%A9mon_Brilliant_Diamond_and_Shining_Pearl', 'Nintendo DS': 'https://en.wikipedia.org/wiki/Nintendo_DS', 'Pokémon Diamond and Pearl': 'https://en.wikipedia.org/wiki/Pok%C3%A9mon_Diamond_and_Pearl', 'premake': 'https://en.wikipedia.org/wiki/Prequel', 'Pokémon Legends: Arceus': 'https://en.wikipedia.org/wiki/Pok%C3%A9mon_Legends:_Arceus', 'Pokémon Scarlet and Violet': 'https://en.wikipedia.org/wiki/Pok%C3%A9mon_Scarlet_and_Violet', 'syllabic abbreviation': 'https://en.wikipedia.org/wiki/Syllabic_abbreviation', 'many fictional species': 'https://en.wikipedia.org/wiki/List_of_Pok%C3%A9mon', 'identical in the singular and plural': 'https://en.wikipedia.org/wiki/English_plurals#Nouns_with_identical_singular_and_plural', 'Pikachu': 'https://en.wikipedia.org/wiki/Pikachu', 'Gameplay of Pokémon': 'https://en.wikipedia.org/wiki/Gameplay_of_Pok%C3%A9mon', 'List of Pokémon': 'https://en.wikipedia.org/wiki/List_of_Pok%C3%A9mon', 'insect collecting': 'https://en.wikipedia.org/wiki/Insect_collecting', 'Pokémon Trainers': 'https://en.wikipedia.org/wiki/Pok%C3%A9mon_Trainer', 'Pokédex': 'https://en.wikipedia.org/wiki/Pok%C3%A9dex', 'video games': 'https://en.wikipedia.org/wiki/Pok%C3%A9mon_(video_game_series)', 'anime': 'https://en.wikipedia.org/wiki/Pok%C3%A9mon_(TV_series)', 'Poké Ball': 'https://en.wikipedia.org/wiki/Pok%C3%A9_Ball', 'experience points': 'https://en.wikipedia.org/wiki/Experience_point', 'level up': 'https://en.wikipedia.org/wiki/Levels_up', 'Pokémon X and Y': 'https://en.wikipedia.org/wiki/Pok%C3%A9mon_X_and_Y', 'stats': 'https://en.wikipedia.org/wiki/Pok%C3%A9mon_statistics', 'moves': 'https://en.wikipedia.org/wiki/Pok%C3%A9mon_moves', 'metamorphosis': 'https://en.wikipedia.org/wiki/Metamorphosis', 'evolution': 'https://en.wikipedia.org/wiki/Pok%C3%A9mon_evolution', 'non-player character': 'https://en.wikipedia.org/wiki/Non-player_character', 'Pokémon Sun and Moon': 'https://en.wikipedia.org/wiki/Pok%C3%A9mon_Sun_and_Moon', 'Pokémon Ultra Sun and Ultra Moon': 'https://en.wikipedia.org/wiki/Pok%C3%A9mon_Ultra_Sun_and_Ultra_Moon', 'Gym Leaders': 'https://en.wikipedia.org/wiki/Gym_Leader', 'Elite Four': 'https://en.wikipedia.org/wiki/Elite_Four', 'Gyms': 'https://en.wikipedia.org/wiki/Gameplay_of_Pok%C3%A9mon#Pokémon_Gyms', 'Contests': 'https://en.wikipedia.org/wiki/Gameplay_of_Pok%C3%A9mon#Pokémon_Contests', 'villainous teams': 'https://en.wikipedia.org/wiki/List_of_Pok%C3%A9mon_characters#Crime_syndicates', 'Pokémon Gold, Silver': 'https://en.wikipedia.org/wiki/Pok%C3%A9mon_Gold_and_Silver', 'Crystal': 'https://en.wikipedia.org/wiki/Pok%C3%A9mon_Crystal', 'HeartGold and SoulSilver': 'https://en.wikipedia.org/wiki/Pok%C3%A9mon_HeartGold_and_SoulSilver', 'spinoff': 'https://en.wikipedia.org/wiki/Spin-off_(media)', 'Pokémon anime': 'https://en.wikipedia.org/wiki/Pok%C3%A9mon_(anime)', 'fictional universe': 'https://en.wikipedia.org/wiki/Fictional_universe', 'Kantō': 'https://en.wikipedia.org/wiki/Kant%C5%8D_region', 'Kansai': 'https://en.wikipedia.org/wiki/Kansai_region', 'Kyushu': 'https://en.wikipedia.org/wiki/Kyushu', 'Hokkaidō': 'https://en.wikipedia.org/wiki/Hokkaido', 'New York City': 'https://en.wikipedia.org/wiki/New_York_City', 'France': 'https://en.wikipedia.org/wiki/France', 'Hawaii': 'https://en.wikipedia.org/wiki/Hawaii', 'United Kingdom': 'https://en.wikipedia.org/wiki/United_Kingdom', 'Iberian Peninsula': 'https://en.wikipedia.org/wiki/Iberian_Peninsula', 'Izu Islands': 'https://en.wikipedia.org/wiki/Izu_Islands', 'Bonin Islands': 'https://en.wikipedia.org/wiki/Bonin_Islands', 'Hokkaido': 'https://en.wikipedia.org/wiki/Hokkaido', 'Sakhalin': 'https://en.wikipedia.org/wiki/Sakhalin', 'Russia': 'https://en.wikipedia.org/wiki/Russia', 'United States': 'https://en.wikipedia.org/wiki/United_States', 'Isle of Man': 'https://en.wikipedia.org/wiki/Isle_of_Man', 'Scotland': 'https://en.wikipedia.org/wiki/Scotland', 'Spain': 'https://en.wikipedia.org/wiki/Spain', 'Portugal': 'https://en.wikipedia.org/wiki/Portugal', 'Pokémon (video game series)': 'https://en.wikipedia.org/wiki/Pok%C3%A9mon_(video_game_series)', 'List of Pokémon video games': 'https://en.wikipedia.org/wiki/List_of_Pok%C3%A9mon_video_games', 'Red and Green': 'https://en.wikipedia.org/wiki/Pok%C3%A9mon_Red_and_Blue', 'Blue': 'https://en.wikipedia.org/wiki/Pok%C3%A9mon_Red_and_Blue#Other_versions', 'Yellow': 'https://en.wikipedia.org/wiki/Pok%C3%A9mon_Yellow', 'Red and Blue': 'https://en.wikipedia.org/wiki/Pok%C3%A9mon_Red_and_Blue', 'Gold and Silver': 'https://en.wikipedia.org/wiki/Pok%C3%A9mon_Gold_and_Silver', 'Ruby and Sapphire': 'https://en.wikipedia.org/wiki/Pok%C3%A9mon_Ruby_and_Sapphire', 'FireRed and LeafGreen': 'https://en.wikipedia.org/wiki/Pok%C3%A9mon_FireRed_and_LeafGreen', 'Emerald': 'https://en.wikipedia.org/wiki/Pok%C3%A9mon_Emerald', 'Diamond and Pearl': 'https://en.wikipedia.org/wiki/Pok%C3%A9mon_the_Series:_Diamond_and_Pearl', 'Platinum': 'https://en.wikipedia.org/wiki/Pok%C3%A9mon_Platinum', 'Black and White': 'https://en.wikipedia.org/wiki/Pok%C3%A9mon_Black_and_White_(manga)', 'Black 2 and White 2': 'https://en.wikipedia.org/wiki/Pok%C3%A9mon_Black_2_and_White_2', 'X and Y': 'https://en.wikipedia.org/wiki/Pok%C3%A9mon_X_and_Y', 'Omega Ruby and Alpha Sapphire': 'https://en.wikipedia.org/wiki/Pok%C3%A9mon_Omega_Ruby_and_Alpha_Sapphire', 'Sun and Moon': 'https://en.wikipedia.org/wiki/Pok%C3%A9mon_Sun_and_Moon', 'Ultra Sun and Ultra Moon': 'https://en.wikipedia.org/wiki/Pok%C3%A9mon_Ultra_Sun_and_Ultra_Moon', \"Let's Go, Pikachu! and Let's Go, Eevee!\": 'https://en.wikipedia.org/wiki/Pok%C3%A9mon:_Let%27s_Go,_Pikachu!_and_Let%27s_Go,_Eevee!', 'Sword  and Shield': 'https://en.wikipedia.org/wiki/Pok%C3%A9mon_Sword_and_Shield', 'The Isle of Armor': 'https://en.wikipedia.org/wiki/Pok%C3%A9mon_Sword_and_Shield:_The_Isle_of_Armor', 'The Crown Tundra': 'https://en.wikipedia.org/wiki/Pok%C3%A9mon_Sword_and_Shield:_The_Crown_Tundra', 'Brilliant Diamond  and Shining Pearl': 'https://en.wikipedia.org/wiki/Pok%C3%A9mon_Brilliant_Diamond_and_Shining_Pearl', 'Legends: Arceus': 'https://en.wikipedia.org/wiki/Pok%C3%A9mon_Legends:_Arceus', 'Scarlet and Violet': 'https://en.wikipedia.org/wiki/Pok%C3%A9mon_Scarlet_and_Violet', 'the Pokémon Company International': 'https://en.wikipedia.org/wiki/The_Pok%C3%A9mon_Company_International', 'chronological': 'https://en.wikipedia.org/wiki/Chronology', 'role-playing video games': 'https://en.wikipedia.org/wiki/Role-playing_video_game', 'Pokémon Red and Green': 'https://en.wikipedia.org/wiki/Pok%C3%A9mon_Red_and_Blue', 'main Pokémon video games': 'https://en.wikipedia.org/wiki/Pok%C3%A9mon_(video_game_series)', 'JP': 'https://en.wikipedia.org/wiki/Japan', 'Pocket Monsters: Blue': 'https://en.wikipedia.org/wiki/Pok%C3%A9mon_Red_and_Blue#Pocket_Monsters:_Blue', 'NA': 'https://en.wikipedia.org/wiki/North_America', 'AUS': 'https://en.wikipedia.org/wiki/Australia', 'EU': 'https://en.wikipedia.org/wiki/Europe', 'Pokémon Gold and Silver': 'https://en.wikipedia.org/wiki/Pok%C3%A9mon_Gold_and_Silver', 'KO': 'https://en.wikipedia.org/wiki/Korea', 'Game Boy Color': 'https://en.wikipedia.org/wiki/Game_Boy_Color', 'Pokémon Crystal': 'https://en.wikipedia.org/wiki/Pok%C3%A9mon_Crystal', 'Pokémon Ruby and Sapphire': 'https://en.wikipedia.org/wiki/Pok%C3%A9mon_Ruby_and_Sapphire', 'Game Boy Advance': 'https://en.wikipedia.org/wiki/Game_Boy_Advance', 'Pokémon FireRed and LeafGreen': 'https://en.wikipedia.org/wiki/Pok%C3%A9mon_FireRed_and_LeafGreen', 'Pokémon Emerald': 'https://en.wikipedia.org/wiki/Pok%C3%A9mon_Emerald', 'Pokémon Platinum': 'https://en.wikipedia.org/wiki/Pok%C3%A9mon_Platinum', 'Pokémon HeartGold and SoulSilver': 'https://en.wikipedia.org/wiki/Pok%C3%A9mon_HeartGold_and_SoulSilver', 'Pokémon Black and White': 'https://en.wikipedia.org/wiki/List_of_Pok%C3%A9mon_Black_and_White_chapters', 'Pokémon Black 2 and White 2': 'https://en.wikipedia.org/wiki/Pok%C3%A9mon_Black_2_and_White_2', 'Pokémon Omega Ruby and Alpha Sapphire': 'https://en.wikipedia.org/wiki/Pok%C3%A9mon_Omega_Ruby_and_Alpha_Sapphire', \"Pokémon: Let's Go, Pikachu! and Let's Go, Eevee!\": 'https://en.wikipedia.org/wiki/Pok%C3%A9mon:_Let%27s_Go,_Pikachu!_and_Let%27s_Go,_Eevee!', 'Pokémon (TV series)': 'https://en.wikipedia.org/wiki/Pok%C3%A9mon_(TV_series)', 'Indigo League': 'https://en.wikipedia.org/wiki/Pok%C3%A9mon:_Indigo_League', 'Adventures in the Orange Islands': 'https://en.wikipedia.org/wiki/Pok%C3%A9mon:_Adventures_in_the_Orange_Islands', 'The Johto Journeys': 'https://en.wikipedia.org/wiki/The_Johto_Journeys', 'Johto League Champions': 'https://en.wikipedia.org/wiki/Pok%C3%A9mon:_Johto_League_Champions', 'Master Quest': 'https://en.wikipedia.org/wiki/Pok%C3%A9mon:_Master_Quest', 'Advanced': 'https://en.wikipedia.org/wiki/Pok%C3%A9mon:_Advanced', 'Advanced Challenge': 'https://en.wikipedia.org/wiki/Pok%C3%A9mon:_Advanced_Challenge', 'Advanced Battle': 'https://en.wikipedia.org/wiki/Pok%C3%A9mon:_Advanced_Battle', 'Battle Frontier': 'https://en.wikipedia.org/wiki/Pok%C3%A9mon:_Battle_Frontier', 'Diamond and Pearl: Battle Dimension': 'https://en.wikipedia.org/wiki/Diamond_and_Pearl:_Battle_Dimension', 'Diamond and Pearl: Galactic Battles': 'https://en.wikipedia.org/wiki/Diamond_and_Pearl:_Galactic_Battles', 'Diamond and Pearl: Sinnoh League Victors': 'https://en.wikipedia.org/wiki/Diamond_and_Pearl:_Sinnoh_League_Victors', 'Black & White': 'https://en.wikipedia.org/wiki/Pok%C3%A9mon_the_Series:_Black_%26_White', 'Black & White: Rival Destinies': 'https://en.wikipedia.org/wiki/Black_%26_White:_Rival_Destinies', 'Black & White: Adventures in Unova': 'https://en.wikipedia.org/wiki/Black_%26_White:_Adventures_in_Unova', 'Black & White: Adventures in Unova and Beyond': 'https://en.wikipedia.org/wiki/Black_%26_White:_Adventures_in_Unova_and_Beyond', 'XY': 'https://en.wikipedia.org/wiki/Pok%C3%A9mon_the_Series:_XY', 'XY: Kalos Quest': 'https://en.wikipedia.org/wiki/XY:_Kalos_Quest', 'XYZ': 'https://en.wikipedia.org/wiki/Pok%C3%A9mon_the_Series:_XYZ', 'Sun & Moon: Ultra Adventures': 'https://en.wikipedia.org/wiki/Sun_%26_Moon:_Ultra_Adventures', 'Sun & Moon: Ultra Legends': 'https://en.wikipedia.org/wiki/Sun_%26_Moon:_Ultra_Legends', 'Journeys': 'https://en.wikipedia.org/wiki/Pok%C3%A9mon_Journeys:_The_Series', 'Master Journeys': 'https://en.wikipedia.org/wiki/Pok%C3%A9mon_Master_Journeys:_The_Series', 'Ultimate Journeys': 'https://en.wikipedia.org/wiki/Pok%C3%A9mon_Ultimate_Journeys:_The_Series', 'TV Tokyo': 'https://en.wikipedia.org/wiki/TV_Tokyo', 'Ash Ketchum': 'https://en.wikipedia.org/wiki/Ash_Ketchum', 'Pokémon: Twilight Wings': 'https://en.wikipedia.org/wiki/Pok%C3%A9mon:_Twilight_Wings', 'Studio Colorido': 'https://en.wikipedia.org/wiki/Studio_Colorido', 'Joe Henderson': 'https://en.wikipedia.org/wiki/Joe_Henderson', 'Pokémon Evolutions': 'https://en.wikipedia.org/wiki/Pok%C3%A9mon_Evolutions', 'YouTube': 'https://en.wikipedia.org/wiki/YouTube', 'List of Pokémon films': 'https://en.wikipedia.org/wiki/List_of_Pok%C3%A9mon_films', 'Pokémon: The First Movie - Mewtwo Strikes Back': 'https://en.wikipedia.org/wiki/Pok%C3%A9mon:_The_First_Movie_-_Mewtwo_Strikes_Back', 'Pokémon: The Movie 2000 - The Power of One': 'https://en.wikipedia.org/wiki/Pok%C3%A9mon:_The_Movie_2000_-_The_Power_of_One', 'Pokémon 3: The Movie - Spell of the Unown': 'https://en.wikipedia.org/wiki/Pok%C3%A9mon_3:_The_Movie_-_Spell_of_the_Unown', 'Pokémon 4Ever: Celebi - Voice of the Forest': 'https://en.wikipedia.org/wiki/Pok%C3%A9mon_4Ever:_Celebi_-_Voice_of_the_Forest', 'Pokémon Heroes: Latios and Latias': 'https://en.wikipedia.org/wiki/Pok%C3%A9mon_Heroes:_Latios_and_Latias', 'Jirachi—Wish Maker': 'https://en.wikipedia.org/wiki/Pok%C3%A9mon:_Jirachi%E2%80%94Wish_Maker', 'Destiny Deoxys': 'https://en.wikipedia.org/wiki/Pok%C3%A9mon:_Destiny_Deoxys', 'Lucario and the Mystery of Mew': 'https://en.wikipedia.org/wiki/Pok%C3%A9mon:_Lucario_and_the_Mystery_of_Mew', 'Pokémon Ranger and the Temple of the Sea': 'https://en.wikipedia.org/wiki/Pok%C3%A9mon_Ranger_and_the_Temple_of_the_Sea', 'The Rise of Darkrai': 'https://en.wikipedia.org/wiki/Pok%C3%A9mon:_The_Rise_of_Darkrai', 'Giratina and the Sky Warrior': 'https://en.wikipedia.org/wiki/Giratina_and_the_Sky_Warrior', 'Arceus and the Jewel of Life': 'https://en.wikipedia.org/wiki/Pok%C3%A9mon:_Arceus_and_the_Jewel_of_Life', 'Zoroark—Master of Illusions': 'https://en.wikipedia.org/wiki/Zoroark%E2%80%94Master_of_Illusions', 'White—Victini and Zekrom': 'https://en.wikipedia.org/wiki/White%E2%80%94Victini_and_Zekrom', 'Black—Victini and Reshiram': 'https://en.wikipedia.org/wiki/Black%E2%80%94Victini_and_Reshiram', 'Kyurem vs. the Sword of Justice': 'https://en.wikipedia.org/wiki/Pok%C3%A9mon_the_Movie:_Kyurem_vs._the_Sword_of_Justice', 'Genesect and the Legend Awakened': 'https://en.wikipedia.org/wiki/Pok%C3%A9mon_the_Movie:_Genesect_and_the_Legend_Awakened', 'Diancie and the Cocoon of Destruction': 'https://en.wikipedia.org/wiki/Pok%C3%A9mon_the_Movie:_Diancie_and_the_Cocoon_of_Destruction', 'Hoopa and the Clash of Ages': 'https://en.wikipedia.org/wiki/Pok%C3%A9mon_the_Movie:_Hoopa_and_the_Clash_of_Ages', 'Volcanion and the Mechanical Marvel': 'https://en.wikipedia.org/wiki/Pok%C3%A9mon_the_Movie:_Volcanion_and_the_Mechanical_Marvel', 'I Choose You!': 'https://en.wikipedia.org/wiki/Pok%C3%A9mon_the_Movie:_I_Choose_You!', 'The Power of Us': 'https://en.wikipedia.org/wiki/Pok%C3%A9mon_the_Movie:_The_Power_of_Us', 'Mewtwo Strikes Back: Evolution': 'https://en.wikipedia.org/wiki/Mewtwo_Strikes_Back:_Evolution', 'Secrets of the Jungle': 'https://en.wikipedia.org/wiki/Pok%C3%A9mon_the_Movie:_Secrets_of_the_Jungle', 'Pokémon films': 'https://en.wikipedia.org/wiki/List_of_Pok%C3%A9mon_films', 'Kunihiko Yuyama': 'https://en.wikipedia.org/wiki/Kunihiko_Yuyama', 'Toho': 'https://en.wikipedia.org/wiki/Toho', 'Pokémon the Movie: Black—Victini and Reshiram and White—Victini and Zekrom': 'https://en.wikipedia.org/wiki/Pok%C3%A9mon_the_Movie:_Black%E2%80%94Victini_and_Reshiram_and_White%E2%80%94Victini_and_Zekrom', '20th film': 'https://en.wikipedia.org/wiki/Pok%C3%A9mon_the_Movie:_I_Choose_You!', 'List of Pokémon theme songs': 'https://en.wikipedia.org/wiki/List_of_Pok%C3%A9mon_theme_songs', 'Pokémon: The First Movie': 'https://en.wikipedia.org/wiki/Pok%C3%A9mon:_The_First_Movie_(soundtrack)', 'Pokémon World': 'https://en.wikipedia.org/wiki/Pok%C3%A9mon_World', 'Pokémon: The First Movie Original Motion Picture Score': 'https://en.wikipedia.org/wiki/Pok%C3%A9mon:_The_First_Movie_Original_Motion_Picture_Score', 'Pokémon: The Movie 2000': 'https://en.wikipedia.org/wiki/Pok%C3%A9mon:_The_Movie_2000#Pokémon:_The_Movie_2000', 'Pokémon: The Movie 2000 Original Motion Picture Score': 'https://en.wikipedia.org/wiki/Pok%C3%A9mon:_The_Movie_2000_Original_Motion_Picture_Score', 'Totally Pokémon': 'https://en.wikipedia.org/wiki/Totally_Pok%C3%A9mon', 'Pokémon 3: The Ultimate Soundtrack': 'https://en.wikipedia.org/wiki/Pok%C3%A9mon_3:_The_Ultimate_Soundtrack', 'Pokémon Christmas Bash': 'https://en.wikipedia.org/wiki/Pok%C3%A9mon_Christmas_Bash', 'Pokémon X: Ten Years of Pokémon': 'https://en.wikipedia.org/wiki/Pok%C3%A9mon_X:_Ten_Years_of_Pok%C3%A9mon', 'Pokémon the Movie: Diancie and the Cocoon of Destruction': 'https://en.wikipedia.org/wiki/Pok%C3%A9mon_the_Movie:_Diancie_and_the_Cocoon_of_Destruction', 'Pokémon the Movie: Hoopa and the Clash of Ages': 'https://en.wikipedia.org/wiki/Pok%C3%A9mon_the_Movie:_Hoopa_and_the_Clash_of_Ages', 'Pokémon the Movie: Volcanion and the Mechanical Marvel': 'https://en.wikipedia.org/wiki/Pok%C3%A9mon_the_Movie:_Volcanion_and_the_Mechanical_Marvel', 'Pokémon the Movie: I Choose You!': 'https://en.wikipedia.org/wiki/Pok%C3%A9mon_the_Movie:_I_Choose_You!', 'Palkia': 'https://en.wikipedia.org/wiki/Palkia', 'collectible card game': 'https://en.wikipedia.org/wiki/Collectible_card_game', 'Wizards of the Coast': 'https://en.wikipedia.org/wiki/Wizards_of_the_Coast', 'Nintendo e-Reader': 'https://en.wikipedia.org/wiki/Nintendo_e-Reader', 'List of Pokémon manga': 'https://en.wikipedia.org/wiki/List_of_Pok%C3%A9mon_manga', 'manga': 'https://en.wikipedia.org/wiki/Manga', 'Viz Media': 'https://en.wikipedia.org/wiki/Viz_Media', 'Chuang Yi': 'https://en.wikipedia.org/wiki/Chuang_Yi', 'example  needed': 'https://en.wikipedia.org/wiki/Wikipedia:AUDIENCE', 'The Electric Tale of Pikachu': 'https://en.wikipedia.org/wiki/Pok%C3%A9mon:_The_Electric_Tale_of_Pikachu', 'shōnen manga': 'https://en.wikipedia.org/wiki/Sh%C5%8Dnen_manga', 'tankōbon': 'https://en.wikipedia.org/wiki/Tank%C5%8Dbon', 'Pokémon Adventures': 'https://en.wikipedia.org/wiki/Pok%C3%A9mon_Adventures', 'Magical Pokémon Journey': 'https://en.wikipedia.org/wiki/Magical_Pok%C3%A9mon_Journey', 'shōjo manga': 'https://en.wikipedia.org/wiki/Sh%C5%8Djo_manga', 'Pikachu Meets the Press': 'https://en.wikipedia.org/wiki/Pok%C3%A9mon_(manga)', 'Ash & Pikachu': 'https://en.wikipedia.org/wiki/Ash_%26_Pikachu', 'Pokémon Gold & Silver': 'https://en.wikipedia.org/wiki/Pok%C3%A9mon_Gold_%26_Silver_(manga)', 'Pokémon Ruby-Sapphire': 'https://en.wikipedia.org/wiki/Pok%C3%A9mon_Ruby-Sapphire', 'Pokémon: Jirachi Wish Maker': 'https://en.wikipedia.org/wiki/List_of_Pok%C3%A9mon_volumes#Pokémon_Jirachi_Wish_Maker', 'Pokémon: Destiny Deoxys': 'https://en.wikipedia.org/wiki/List_of_Pok%C3%A9mon_volumes#Pokémon_Destiny_Deoxys', 'Pokémon: Lucario and the Mystery of Mew': 'https://en.wikipedia.org/wiki/List_of_Pok%C3%A9mon_volumes#Pokémon_Lucario_and_the_Mystery_of_Mew', 'Pokémon Diamond and Pearl Adventure!': 'https://en.wikipedia.org/wiki/Pok%C3%A9mon_Diamond_and_Pearl_Adventure!', 'Pokémon: The Rise of Darkrai': 'https://en.wikipedia.org/wiki/List_of_Pok%C3%A9mon_volumes#Pokémon:_The_Rise_of_Darkrai', 'Pokémon: Giratina and the Sky Warrior': 'https://en.wikipedia.org/wiki/List_of_Pok%C3%A9mon_volumes#Pokémon:_Giratina_and_the_Sky_Warrior', 'Pokémon: Arceus and the Jewel of Life': 'https://en.wikipedia.org/wiki/List_of_Pok%C3%A9mon_volumes#Pokémon:_Arceus_and_the_Jewel_of_Life', 'Pokémon: Zoroark: Master of Illusions': 'https://en.wikipedia.org/wiki/List_of_Pok%C3%A9mon_volumes#Pokémon:_Zoroark:_Master_of_Illusions', 'Pokémon The Movie: White: Victini and Zekrom': 'https://en.wikipedia.org/wiki/List_of_Pok%C3%A9mon_volumes#Pokémon_The_Movie:_Black:_Victini_and_Reshiram_and_White:_Victini_and_Zekrom', 'Monopoly board game': 'https://en.wikipedia.org/wiki/Monopoly_(game)', 'Netflix': 'https://en.wikipedia.org/wiki/Netflix', 'Lucifer': 'https://en.wikipedia.org/wiki/Lucifer_(TV_series)', \"may compromise the article's neutrality\": 'https://en.wikipedia.org/wiki/Wikipedia:Neutral_point_of_view#Article_structure', 'fundamentalist Christians': 'https://en.wikipedia.org/wiki/Christian_fundamentalism', 'occult': 'https://en.wikipedia.org/wiki/Occult', 'violent': 'https://en.wikipedia.org/wiki/Violence', 'Sat2000': 'https://en.wikipedia.org/wiki/Sat2000', 'Vatican City': 'https://en.wikipedia.org/wiki/Vatican_City', 'manji': 'https://en.wikipedia.org/wiki/Swastika#Other_Asian_traditions', 'Buddhist': 'https://en.wikipedia.org/wiki/Buddhist', 'Jewish': 'https://en.wikipedia.org/wiki/Jewish', 'Anti-Defamation League': 'https://en.wikipedia.org/wiki/Anti-Defamation_League', 'swastika': 'https://en.wikipedia.org/wiki/Swastika', 'Nazi': 'https://en.wikipedia.org/wiki/Nazism', 'Merrick': 'https://en.wikipedia.org/wiki/Merrick,_New_York', 'problematic gambling': 'https://en.wikipedia.org/wiki/Problem_gambling', 'Saudi Arabia': 'https://en.wikipedia.org/wiki/Saudi_Arabia', 'Zionism': 'https://en.wikipedia.org/wiki/Zionism', 'Star of David': 'https://en.wikipedia.org/wiki/Star_of_David', 'Colorless energy': 'https://en.wikipedia.org/wiki/Pok%C3%A9mon_Trading_Card_Game#Pokémon_types', 'crosses': 'https://en.wikipedia.org/wiki/Cross', 'Freemasonry': 'https://en.wikipedia.org/wiki/Freemasonry', 'Muslim': 'https://en.wikipedia.org/wiki/Muslim', 'materialism': 'https://en.wikipedia.org/wiki/Economic_materialism', 'PETA': 'https://en.wikipedia.org/wiki/People_for_the_Ethical_Treatment_of_Animals', 'cruelty to animals': 'https://en.wikipedia.org/wiki/Cruelty_to_animals', 'cockfights': 'https://en.wikipedia.org/wiki/Cockfight', 'dog fighting': 'https://en.wikipedia.org/wiki/Dog_fighting', 'Dennō Senshi Porygon': 'https://en.wikipedia.org/wiki/Denn%C5%8D_Senshi_Porygon', 'Burger King Pokémon container recall': 'https://en.wikipedia.org/wiki/Burger_King_Pok%C3%A9mon_container_recall', 'seizures': 'https://en.wikipedia.org/wiki/Seizures', 'epilepsy': 'https://en.wikipedia.org/wiki/Epilepsy', 'The Simpsons': 'https://en.wikipedia.org/wiki/The_Simpsons', 'Thirty Minutes over Tokyo': 'https://en.wikipedia.org/wiki/Thirty_Minutes_over_Tokyo', 'cameo': 'https://en.wikipedia.org/wiki/Cameo_appearance', 'South Park': 'https://en.wikipedia.org/wiki/South_Park', 'Chinpokomon': 'https://en.wikipedia.org/wiki/Chinpokomon', 'Manhattan Beach, California': 'https://en.wikipedia.org/wiki/Manhattan_Beach,_California', 'Monster in My Pocket': 'https://en.wikipedia.org/wiki/Monster_in_My_Pocket', 'Criticism and incidents': 'https://en.wikipedia.org/wiki/Pok%C3%A9mon_Go#Criticism_and_incidents', 'tongue-in-cheek': 'https://en.wikipedia.org/wiki/Tongue-in-cheek', 'Bosnian War': 'https://en.wikipedia.org/wiki/Bosnian_War', 'Chiquimula': 'https://en.wikipedia.org/wiki/Chiquimula', 'Guatemala': 'https://en.wikipedia.org/wiki/Guatemala', 'All Nippon Airways': 'https://en.wikipedia.org/wiki/All_Nippon_Airways', 'Boeing 747-400': 'https://en.wikipedia.org/wiki/Boeing_747-400', 'Pokémon Jet': 'https://en.wikipedia.org/wiki/Pok%C3%A9mon_Jet', 'popular culture': 'https://en.wikipedia.org/wiki/Popular_culture', 'various species of Pokémon': 'https://en.wikipedia.org/wiki/List_of_Pok%C3%A9mon', \"Macy's Thanksgiving Day Parade\": 'https://en.wikipedia.org/wiki/Macy%27s_Thanksgiving_Day_Parade', 'traveling theme park': 'https://en.wikipedia.org/wiki/Pok%C3%A9park', 'Nagoya, Japan': 'https://en.wikipedia.org/wiki/Nagoya', 'Taipei': 'https://en.wikipedia.org/wiki/Taipei', 'Time': 'https://en.wikipedia.org/wiki/Time_(magazine)', 'Drawn Together': 'https://en.wikipedia.org/wiki/Drawn_Together', 'Ling-Ling': 'https://en.wikipedia.org/wiki/List_of_Drawn_Together_characters#Ling-Ling', 'Robot Chicken': 'https://en.wikipedia.org/wiki/Robot_Chicken', 'VH1': 'https://en.wikipedia.org/wiki/VH1', \"I Love the '90s: Part Deux\": 'https://en.wikipedia.org/wiki/I_Love_the_%2790s:_Part_Deux', 'Jim Butcher': 'https://en.wikipedia.org/wiki/Jim_Butcher', 'Codex Alera': 'https://en.wikipedia.org/wiki/Codex_Alera', 'Charizard': 'https://en.wikipedia.org/wiki/Charizard', 'Binburrum articuno': 'https://en.wikipedia.org/wiki/Binburrum', 'Binburrum zapdos': 'https://en.wikipedia.org/wiki/Binburrum', 'Binburrum moltres': 'https://en.wikipedia.org/wiki/Binburrum', 'Pikachurin': 'https://en.wikipedia.org/wiki/Pikachurin', 'Rockefeller Center': 'https://en.wikipedia.org/wiki/Rockefeller_Center', 'Osaka': 'https://en.wikipedia.org/wiki/Osaka', 'plushies': 'https://en.wikipedia.org/wiki/Stuffed_animal', 'Nintendo World Store': 'https://en.wikipedia.org/wiki/Nintendo_World_Store', 'Meitetsu': 'https://en.wikipedia.org/wiki/Meitetsu', 'Joseph Tobin': 'https://en.wikipedia.org/wiki/Joseph_Tobin', 'page\\xa0needed': 'https://en.wikipedia.org/wiki/Wikipedia:Citing_sources', 'E3 Series Shinkansen': 'https://en.wikipedia.org/wiki/E3_Series_Shinkansen', 'Digimon': 'https://en.wikipedia.org/wiki/Digimon', 'IGN': 'https://en.wikipedia.org/wiki/IGN', 'Digivolution': 'https://en.wikipedia.org/wiki/Digivolution', 'Digimon virtual pet': 'https://en.wikipedia.org/wiki/Digital_Monster_(virtual_pet)', 'Pokémon competitive play': 'https://en.wikipedia.org/wiki/Pok%C3%A9mon_competitive_play', 'fan sites': 'https://en.wikipedia.org/wiki/Fan_site', 'wiki': 'https://en.wikipedia.org/wiki/Wiki', 'subreddit': 'https://en.wikipedia.org/wiki/Reddit#Subreddits', \"significant community around the Pokémon video games' metagame\": 'https://en.wikipedia.org/wiki/Pok%C3%A9mon_competitive_play', 'Twitch': 'https://en.wikipedia.org/wiki/Twitch_(service)', 'Twitch Plays Pokémon': 'https://en.wikipedia.org/wiki/Twitch_Plays_Pok%C3%A9mon', 'crowdsource': 'https://en.wikipedia.org/wiki/Crowdsource', 'fan made': 'https://en.wikipedia.org/wiki/Fan_made', 'game mode': 'https://en.wikipedia.org/wiki/Game_mode', 'Pokémon Uranium': 'https://en.wikipedia.org/wiki/Pok%C3%A9mon_Uranium', 'Japanese': 'https://en.wikipedia.org/wiki/Japanese_language', 'Hepburn': 'https://en.wikipedia.org/wiki/Hepburn_romanization', '[pokemoɴ]': 'https://en.wikipedia.org/wiki/Help:IPA/Japanese', '/ˈpoʊkɪmɒn, -ki-, -keɪ-/': 'https://en.wikipedia.org/wiki/Help:IPA/English', '[poketto\\xa0moɰ̃sɯ̥taː]': 'https://en.wikipedia.org/wiki/Help:IPA/Japanese', 'Sora Ltd.': 'https://en.wikipedia.org/wiki/Sora_Ltd.', 'Super Smash Bros. Brawl': 'https://en.wikipedia.org/wiki/Super_Smash_Bros._Brawl', 'voice acted': 'https://en.wikipedia.org/wiki/Voice_acting', 'Dictionary.com': 'https://en.wikipedia.org/wiki/Dictionary.com', 'IAC': 'https://en.wikipedia.org/wiki/IAC_(company)', 'Encyclopædia Britannica': 'https://en.wikipedia.org/wiki/Encyclop%C3%A6dia_Britannica', 'Encyclopædia Britannica, Inc.': 'https://en.wikipedia.org/wiki/Encyclop%C3%A6dia_Britannica,_Inc.', 'ISBN': 'https://en.wikipedia.org/wiki/ISBN_(identifier)', '9780814743072': 'https://en.wikipedia.org/wiki/Special:BookSources/9780814743072', 'The Verge': 'https://en.wikipedia.org/wiki/The_Verge', 'USgamer': 'https://en.wikipedia.org/wiki/USgamer', 'New York Daily News': 'https://en.wikipedia.org/wiki/New_York_Daily_News', 'Newspapers.com': 'https://en.wikipedia.org/wiki/Newspapers.com', 'The Wall Street Journal': 'https://en.wikipedia.org/wiki/The_Wall_Street_Journal', 'GameSpot': 'https://en.wikipedia.org/wiki/GameSpot', 'CBS Interactive': 'https://en.wikipedia.org/wiki/CBS_Interactive', 'Rotten Tomatoes': 'https://en.wikipedia.org/wiki/Rotten_Tomatoes', 'Fandango Media': 'https://en.wikipedia.org/wiki/Fandango_Media', '978-0-470-04407-0': 'https://en.wikipedia.org/wiki/Special:BookSources/978-0-470-04407-0', 'CD Universe': 'https://en.wikipedia.org/wiki/CD_Universe', '978-1421522883': 'https://en.wikipedia.org/wiki/Special:BookSources/978-1421522883', '978-1421538174': 'https://en.wikipedia.org/wiki/Special:BookSources/978-1421538174', '978-1421522890': 'https://en.wikipedia.org/wiki/Special:BookSources/978-1421522890', '978-1421527017': 'https://en.wikipedia.org/wiki/Special:BookSources/978-1421527017', '978-1421538020': 'https://en.wikipedia.org/wiki/Special:BookSources/978-1421538020', '978-1421542218': 'https://en.wikipedia.org/wiki/Special:BookSources/978-1421542218', '978-1421549545': 'https://en.wikipedia.org/wiki/Special:BookSources/978-1421549545', '978-1421540900': 'https://en.wikipedia.org/wiki/Special:BookSources/978-1421540900', 'People': 'https://en.wikipedia.org/wiki/People_(American_magazine)', 'Chicago Sun-Times': 'https://en.wikipedia.org/wiki/Chicago_Sun-Times', 'HighBeam Research': 'https://en.wikipedia.org/wiki/HighBeam_Research', 'New York Times': 'https://en.wikipedia.org/wiki/New_York_Times', 'CNET': 'https://en.wikipedia.org/wiki/CNET', 'Oxford University Press': 'https://en.wikipedia.org/wiki/Oxford_University_Press', 'dead link': 'https://en.wikipedia.org/wiki/Wikipedia:Link_rot', 'University of Washington': 'https://en.wikipedia.org/wiki/University_of_Washington', 'University of Auckland': 'https://en.wikipedia.org/wiki/University_of_Auckland', 'EDGAR Online': 'https://en.wikipedia.org/wiki/EDGAR_Online', 'CBC.ca': 'https://en.wikipedia.org/wiki/CBC.ca', 'The Journal': 'https://en.wikipedia.org/wiki/The_Journal_(West_Virginia_newspaper)', 'Martinsburg, West Virginia': 'https://en.wikipedia.org/wiki/Martinsburg,_West_Virginia', 'The Independent': 'https://en.wikipedia.org/wiki/The_Independent', 'Polygon': 'https://en.wikipedia.org/wiki/Polygon_(website)', 'Vox Media': 'https://en.wikipedia.org/wiki/Vox_Media', 'Duke University Press': 'https://en.wikipedia.org/wiki/Duke_University_Press', '0-8223-3287-6': 'https://en.wikipedia.org/wiki/Special:BookSources/0-8223-3287-6', 'School Library Journal': 'https://en.wikipedia.org/wiki/School_Library_Journal', '978-0745327976': 'https://en.wikipedia.org/wiki/Special:BookSources/978-0745327976', 'Kotaku': 'https://en.wikipedia.org/wiki/Kotaku', 'Univision Communications': 'https://en.wikipedia.org/wiki/Univision_Communications', 'Ars Technica': 'https://en.wikipedia.org/wiki/Ars_Technica', 'Vox Media, Inc.': 'https://en.wikipedia.org/wiki/Vox_Media,_Inc.', 'iDigitalTimes': 'https://en.wikipedia.org/wiki/IDigitalTimes', 'v': 'https://en.wikipedia.org/wiki/Template:Pok%C3%A9mon_movie_summary', 't': 'https://en.wikipedia.org/wiki/Template_talk:Pok%C3%A9mon_movie_summary', 'Creatures Inc.': 'https://en.wikipedia.org/wiki/Creatures_(company)', 'Tsunekazu Ishihara': 'https://en.wikipedia.org/wiki/Tsunekazu_Ishihara', 'Media': 'https://en.wikipedia.org/wiki/Timeline_of_Pok%C3%A9mon', 'Anime series': 'https://en.wikipedia.org/wiki/Pok%C3%A9mon_(TV_series)', 'Books': 'https://en.wikipedia.org/wiki/List_of_Pok%C3%A9mon_books', 'Pokémon: Symphonic Evolutions': 'https://en.wikipedia.org/wiki/Pok%C3%A9mon:_Symphonic_Evolutions', 'Films': 'https://en.wikipedia.org/wiki/List_of_Pok%C3%A9mon_films', 'Theme songs': 'https://en.wikipedia.org/wiki/List_of_Pok%C3%A9mon_theme_songs', 'Trading Card Game': 'https://en.wikipedia.org/wiki/Pok%C3%A9mon_Trading_Card_Game_(video_game)', 'sets': 'https://en.wikipedia.org/wiki/List_of_Pok%C3%A9mon_Trading_Card_Game_sets', 'Trading Figure Game': 'https://en.wikipedia.org/wiki/Pok%C3%A9mon_Trading_Figure_Game', 'Video games': 'https://en.wikipedia.org/wiki/Portal:Video_games', 'Manga': 'https://en.wikipedia.org/wiki/List_of_Pok%C3%A9mon_manga', 'Volume list': 'https://en.wikipedia.org/wiki/List_of_Pok%C3%A9mon_volumes', 'Pocket Monsters': 'https://en.wikipedia.org/wiki/Pok%C3%A9mon_Pocket_Monsters', 'Adventures': 'https://en.wikipedia.org/wiki/Pok%C3%A9mon_Adventures', 'characters': 'https://en.wikipedia.org/wiki/List_of_Pok%C3%A9mon_Adventures_characters', 'volumes': 'https://en.wikipedia.org/wiki/List_of_Pok%C3%A9mon_Adventures_volumes', '1–20': 'https://en.wikipedia.org/wiki/List_of_Pok%C3%A9mon_Adventures_volumes_(1%E2%80%9320)', '21–40': 'https://en.wikipedia.org/wiki/List_of_Pok%C3%A9mon_Adventures_volumes_(21%E2%80%9340)', '41–current': 'https://en.wikipedia.org/wiki/List_of_Pok%C3%A9mon_Adventures_volumes_(41%E2%80%93current)', 'Challenge! Battle Frontier': 'https://en.wikipedia.org/wiki/Pocket_Monsters_Emerald:_Challenge!_Battle_Frontier', \"Ginji's Rescue Team\": 'https://en.wikipedia.org/wiki/Pok%C3%A9mon_Mystery_Dungeon:_Ginji%27s_Rescue_Team', 'Diamond and Pearl Adventure!': 'https://en.wikipedia.org/wiki/Pok%C3%A9mon_Diamond_and_Pearl_Adventure!', 'Pocket Monsters RéBURST': 'https://en.wikipedia.org/wiki/Pocket_Monsters_R%C3%A9BURST', 'chapters': 'https://en.wikipedia.org/wiki/List_of_Pocket_Monsters_R%C3%A9BURST_chapters', 'Universe': 'https://en.wikipedia.org/wiki/Pok%C3%A9mon_universe', 'Species': 'https://en.wikipedia.org/wiki/List_of_Pok%C3%A9mon', 'I': 'https://en.wikipedia.org/wiki/List_of_generation_I_Pok%C3%A9mon', 'Bulbasaur': 'https://en.wikipedia.org/wiki/Bulbasaur', 'Venusaur': 'https://en.wikipedia.org/wiki/Venusaur', 'Charmander': 'https://en.wikipedia.org/wiki/Charmander', 'Squirtle': 'https://en.wikipedia.org/wiki/Squirtle', 'Jigglypuff': 'https://en.wikipedia.org/wiki/Jigglypuff', 'Meowth': 'https://en.wikipedia.org/wiki/Meowth', 'Psyduck': 'https://en.wikipedia.org/wiki/Psyduck', 'Kadabra': 'https://en.wikipedia.org/wiki/Kadabra', 'Cubone': 'https://en.wikipedia.org/wiki/Cubone', 'Mr. Mime': 'https://en.wikipedia.org/wiki/Mr._Mime', 'Jynx': 'https://en.wikipedia.org/wiki/Jynx', 'Magikarp': 'https://en.wikipedia.org/wiki/Magikarp', 'Gyarados': 'https://en.wikipedia.org/wiki/Gyarados', 'Lapras': 'https://en.wikipedia.org/wiki/Lapras', 'Eevee': 'https://en.wikipedia.org/wiki/Eevee', 'Snorlax': 'https://en.wikipedia.org/wiki/Snorlax', 'Mewtwo': 'https://en.wikipedia.org/wiki/Mewtwo', 'Mew': 'https://en.wikipedia.org/wiki/Mew_(Pok%C3%A9mon)', 'II': 'https://en.wikipedia.org/wiki/List_of_generation_II_Pok%C3%A9mon', 'Pichu': 'https://en.wikipedia.org/wiki/Pichu', 'Unown': 'https://en.wikipedia.org/wiki/Unown', 'Lugia': 'https://en.wikipedia.org/wiki/Lugia', 'Celebi': 'https://en.wikipedia.org/wiki/Celebi_(Pok%C3%A9mon)', 'III': 'https://en.wikipedia.org/wiki/List_of_generation_III_Pok%C3%A9mon', 'IV': 'https://en.wikipedia.org/wiki/List_of_generation_IV_Pok%C3%A9mon', 'Lucario': 'https://en.wikipedia.org/wiki/Lucario', 'V': 'https://en.wikipedia.org/wiki/List_of_generation_V_Pok%C3%A9mon', 'VI': 'https://en.wikipedia.org/wiki/List_of_generation_VI_Pok%C3%A9mon', 'Greninja': 'https://en.wikipedia.org/wiki/Greninja', 'VII': 'https://en.wikipedia.org/wiki/List_of_generation_VII_Pok%C3%A9mon', 'Popplio': 'https://en.wikipedia.org/wiki/Popplio', 'Mimikyu': 'https://en.wikipedia.org/wiki/Mimikyu', 'VIII': 'https://en.wikipedia.org/wiki/List_of_generation_VIII_Pok%C3%A9mon', 'Wooloo': 'https://en.wikipedia.org/wiki/Wooloo', 'IX': 'https://en.wikipedia.org/wiki/List_of_generation_IX_Pok%C3%A9mon', 'Characters': 'https://en.wikipedia.org/wiki/List_of_Pok%C3%A9mon_anime_characters', 'Brock': 'https://en.wikipedia.org/wiki/Brock_(Pok%C3%A9mon)', 'Misty': 'https://en.wikipedia.org/wiki/Misty_(Pok%C3%A9mon)', 'Lillie': 'https://en.wikipedia.org/wiki/Lillie_(Pok%C3%A9mon)', 'Lavender Town': 'https://en.wikipedia.org/wiki/Lavender_Town', 'MissingNo.': 'https://en.wikipedia.org/wiki/MissingNo.', 'Pikachu sculpture': 'https://en.wikipedia.org/wiki/Pikachu_(sculpture)', 'Pokémon 25th Anniversary': 'https://en.wikipedia.org/wiki/Pok%C3%A9mon_25th_Anniversary', 'Electric': 'https://en.wikipedia.org/wiki/Electric_(Katy_Perry_song)', 'Pokéfuta': 'https://en.wikipedia.org/wiki/Pok%C3%A9futa', 'List of video games': 'https://en.wikipedia.org/wiki/List_of_Pok%C3%A9mon_video_games', 'Gameplay': 'https://en.wikipedia.org/wiki/Gameplay_of_Pok%C3%A9mon', 'Red/Green/Blue': 'https://en.wikipedia.org/wiki/Pok%C3%A9mon_Red_and_Blue', 'Gold/Silver': 'https://en.wikipedia.org/wiki/Pok%C3%A9mon_Gold_and_Silver', 'Ruby/Sapphire': 'https://en.wikipedia.org/wiki/Pok%C3%A9mon_Ruby_and_Sapphire', 'Diamond/Pearl': 'https://en.wikipedia.org/wiki/Pok%C3%A9mon_Diamond_and_Pearl', 'Black/White': 'https://en.wikipedia.org/wiki/Pok%C3%A9mon_Black_and_White', 'Black 2/White 2': 'https://en.wikipedia.org/wiki/Pok%C3%A9mon_Black_2_and_White_2', 'X/Y': 'https://en.wikipedia.org/wiki/Pok%C3%A9mon_X_and_Y', 'Sun/Moon': 'https://en.wikipedia.org/wiki/Pok%C3%A9mon_Sun_and_Moon', 'Ultra Sun/Ultra Moon': 'https://en.wikipedia.org/wiki/Pok%C3%A9mon_Ultra_Sun_and_Ultra_Moon', 'Sword/Shield': 'https://en.wikipedia.org/wiki/Pok%C3%A9mon_Sword_and_Shield', 'Scarlet/Violet': 'https://en.wikipedia.org/wiki/Pok%C3%A9mon_Scarlet_and_Violet', 'FireRed/LeafGreen': 'https://en.wikipedia.org/wiki/Pok%C3%A9mon_FireRed_and_LeafGreen', 'HeartGold/SoulSilver': 'https://en.wikipedia.org/wiki/Pok%C3%A9mon_HeartGold_and_SoulSilver', 'Omega Ruby/Alpha Sapphire': 'https://en.wikipedia.org/wiki/Pok%C3%A9mon_Omega_Ruby_and_Alpha_Sapphire', \"Let's Go, Pikachu!/Eevee!\": 'https://en.wikipedia.org/wiki/Pok%C3%A9mon:_Let%27s_Go,_Pikachu!_and_Let%27s_Go,_Eevee!', 'Brilliant Diamond/Shining Pearl': 'https://en.wikipedia.org/wiki/Pok%C3%A9mon_Brilliant_Diamond_and_Shining_Pearl', 'Stadium': 'https://en.wikipedia.org/wiki/Pok%C3%A9mon_Stadium', 'Stadium 2': 'https://en.wikipedia.org/wiki/Pok%C3%A9mon_Stadium_2', 'Colosseum': 'https://en.wikipedia.org/wiki/Pok%C3%A9mon_Colosseum', 'XD: Gale of Darkness': 'https://en.wikipedia.org/wiki/Pok%C3%A9mon_XD:_Gale_of_Darkness', 'Battle Revolution': 'https://en.wikipedia.org/wiki/Pok%C3%A9mon_Battle_Revolution', 'My Pokémon Ranch': 'https://en.wikipedia.org/wiki/My_Pok%C3%A9mon_Ranch', 'Go': 'https://en.wikipedia.org/wiki/Pok%C3%A9mon_Go', 'live events': 'https://en.wikipedia.org/wiki/Pok%C3%A9mon_Go_live_events', 'Battle League': 'https://en.wikipedia.org/wiki/Pok%C3%A9mon_GO_Battle_League', 'Home': 'https://en.wikipedia.org/wiki/Pok%C3%A9mon_Home', 'Mystery Dungeon': 'https://en.wikipedia.org/wiki/Pok%C3%A9mon_Mystery_Dungeon', 'Blue/Red Rescue Team': 'https://en.wikipedia.org/wiki/Pok%C3%A9mon_Mystery_Dungeon:_Blue_Rescue_Team_and_Red_Rescue_Team', 'Rescue Team DX': 'https://en.wikipedia.org/wiki/Pok%C3%A9mon_Mystery_Dungeon:_Rescue_Team_DX', 'Explorers of Time/Darkness': 'https://en.wikipedia.org/wiki/Pok%C3%A9mon_Mystery_Dungeon:_Explorers_of_Time_and_Explorers_of_Darkness', 'Explorers of Sky': 'https://en.wikipedia.org/wiki/Pok%C3%A9mon_Mystery_Dungeon:_Explorers_of_Sky', 'Fire/Storm/Light Adventure Team': 'https://en.wikipedia.org/wiki/Pok%C3%A9mon_Mystery_Dungeon:_Adventure_Team', 'Gates to Infinity': 'https://en.wikipedia.org/wiki/Pok%C3%A9mon_Mystery_Dungeon:_Gates_to_Infinity', 'Super Mystery Dungeon': 'https://en.wikipedia.org/wiki/Pok%C3%A9mon_Super_Mystery_Dungeon', 'Ranger': 'https://en.wikipedia.org/wiki/Pok%C3%A9mon_Ranger', 'Shadows of Almia': 'https://en.wikipedia.org/wiki/Pok%C3%A9mon_Ranger:_Shadows_of_Almia', 'Guardian Signs': 'https://en.wikipedia.org/wiki/Pok%C3%A9mon_Ranger:_Guardian_Signs', 'Rumble': 'https://en.wikipedia.org/wiki/Pok%C3%A9mon_Rumble', 'Blast': 'https://en.wikipedia.org/wiki/Pok%C3%A9mon_Rumble_Blast', 'U': 'https://en.wikipedia.org/wiki/Pok%C3%A9mon_Rumble_U', 'World': 'https://en.wikipedia.org/wiki/Pok%C3%A9mon_Rumble_World', 'Rush': 'https://en.wikipedia.org/wiki/Pok%C3%A9mon_Rumble_Rush', 'Puzzle League': 'https://en.wikipedia.org/wiki/Pok%C3%A9mon_Puzzle_League', 'Puzzle Challenge': 'https://en.wikipedia.org/wiki/Pok%C3%A9mon_Puzzle_Challenge', 'Trozei!': 'https://en.wikipedia.org/wiki/Pok%C3%A9mon_Trozei!', 'Battle Trozei': 'https://en.wikipedia.org/wiki/Pok%C3%A9mon_Battle_Trozei', 'Shuffle': 'https://en.wikipedia.org/wiki/Pok%C3%A9mon_Shuffle', 'Picross': 'https://en.wikipedia.org/wiki/Pok%C3%A9mon_Picross', 'Café Mix': 'https://en.wikipedia.org/wiki/Pok%C3%A9mon_Caf%C3%A9_Mix', 'Hey You, Pikachu!': 'https://en.wikipedia.org/wiki/Hey_You,_Pikachu!', 'Snap': 'https://en.wikipedia.org/wiki/Pok%C3%A9mon_Snap', 'Pinball': 'https://en.wikipedia.org/wiki/Pok%C3%A9mon_Pinball', 'Project Studio': 'https://en.wikipedia.org/wiki/Pok%C3%A9mon_Project_Studio', 'Channel': 'https://en.wikipedia.org/wiki/Pok%C3%A9mon_Channel', 'Pinball: Ruby & Sapphire': 'https://en.wikipedia.org/wiki/Pok%C3%A9mon_Pinball:_Ruby_%26_Sapphire', 'Dash': 'https://en.wikipedia.org/wiki/Pok%C3%A9mon_Dash', 'Pokémate': 'https://en.wikipedia.org/wiki/Pok%C3%A9mate', 'PokéPark': 'https://en.wikipedia.org/wiki/Pok%C3%A9Park_Wii:_Pikachu%27s_Adventure', 'TCG Online': 'https://en.wikipedia.org/wiki/Pok%C3%A9mon_TCG_Online', 'Typing Adventure': 'https://en.wikipedia.org/wiki/Learn_with_Pok%C3%A9mon:_Typing_Adventure', 'PokéPark 2': 'https://en.wikipedia.org/wiki/Pok%C3%A9Park_2:_Wonders_Beyond', 'Conquest': 'https://en.wikipedia.org/wiki/Pok%C3%A9mon_Conquest', 'Art Academy': 'https://en.wikipedia.org/wiki/Pok%C3%A9mon_Art_Academy', 'Pokkén Tournament': 'https://en.wikipedia.org/wiki/Pokk%C3%A9n_Tournament', 'Duel': 'https://en.wikipedia.org/wiki/Pok%C3%A9mon_Duel', 'Magikarp Jump': 'https://en.wikipedia.org/wiki/Pok%C3%A9mon:_Magikarp_Jump', 'Quest': 'https://en.wikipedia.org/wiki/Pok%C3%A9mon_Quest', 'Masters EX': 'https://en.wikipedia.org/wiki/Pok%C3%A9mon_Masters_EX', 'New Snap': 'https://en.wikipedia.org/wiki/New_Pok%C3%A9mon_Snap', 'Unite': 'https://en.wikipedia.org/wiki/Pok%C3%A9mon_Unite', 'Sleep': 'https://en.wikipedia.org/wiki/Pok%C3%A9mon_Sleep', 'Pokémon Pikachu': 'https://en.wikipedia.org/wiki/Pok%C3%A9mon_Pikachu', 'Mini': 'https://en.wikipedia.org/wiki/Pok%C3%A9mon_Mini', 'Competitive play': 'https://en.wikipedia.org/wiki/Pok%C3%A9mon_competitive_play', 'Play! Pokémon': 'https://en.wikipedia.org/wiki/Play!_Pok%C3%A9mon', 'World Championships': 'https://en.wikipedia.org/wiki/Pok%C3%A9mon_World_Championships', 'PETA satirical browser games': 'https://en.wikipedia.org/wiki/PETA_satirical_browser_games', 'Uranium': 'https://en.wikipedia.org/wiki/Pok%C3%A9mon_Uranium', 'Sage': 'https://en.wikipedia.org/wiki/Pok%C3%A9mon_Sage', 'Episodes': 'https://en.wikipedia.org/wiki/Lists_of_Pok%C3%A9mon_episodes', 'Seasons 1–13': 'https://en.wikipedia.org/wiki/List_of_Pok%C3%A9mon_episodes_(seasons_1%E2%80%9313)', 'Seasons 14–present': 'https://en.wikipedia.org/wiki/List_of_Pok%C3%A9mon_episodes_(seasons_14%E2%80%93present)', 'Removed from rotation': 'https://en.wikipedia.org/wiki/Pok%C3%A9mon_episodes_removed_from_rotation', 'Pokémon, I Choose You!': 'https://en.wikipedia.org/wiki/Pok%C3%A9mon,_I_Choose_You!', 'Johto Journeys': 'https://en.wikipedia.org/wiki/Pok%C3%A9mon:_The_Johto_Journeys', 'Battle Dimension': 'https://en.wikipedia.org/wiki/Pok%C3%A9mon:_Diamond_and_Pearl:_Battle_Dimension', 'Galactic Battles': 'https://en.wikipedia.org/wiki/Pok%C3%A9mon:_Diamond_and_Pearl:_Galactic_Battles', 'Sinnoh League Victors': 'https://en.wikipedia.org/wiki/Pok%C3%A9mon:_Diamond_and_Pearl:_Sinnoh_League_Victors', 'Rival Destinies': 'https://en.wikipedia.org/wiki/Pok%C3%A9mon:_Black_%26_White:_Rival_Destinies', 'Adventures in Unova': 'https://en.wikipedia.org/wiki/Pok%C3%A9mon:_Black_%26_White:_Adventures_in_Unova', 'and Beyond': 'https://en.wikipedia.org/wiki/Pok%C3%A9mon:_Black_%26_White:_Adventures_in_Unova_and_Beyond', 'Kalos Quest': 'https://en.wikipedia.org/wiki/Pok%C3%A9mon_the_Series:_XY_Kalos_Quest', 'Sun & Moon': 'https://en.wikipedia.org/wiki/Pok%C3%A9mon_the_Series:_Sun_%26_Moon', 'Ultra Adventures': 'https://en.wikipedia.org/wiki/Pok%C3%A9mon_the_Series:_Sun_%26_Moon_%E2%80%93_Ultra_Adventures', 'Ultra Legends': 'https://en.wikipedia.org/wiki/Pok%C3%A9mon_the_Series:_Sun_%26_Moon_%E2%80%93_Ultra_Legends', 'Chronicles': 'https://en.wikipedia.org/wiki/Pok%C3%A9mon_Chronicles', 'Origins': 'https://en.wikipedia.org/wiki/Pok%C3%A9mon_Origins', 'Arceus Chronicles': 'https://en.wikipedia.org/wiki/Pok%C3%A9mon:_The_Arceus_Chronicles', '2.B.A. Master': 'https://en.wikipedia.org/wiki/Pok%C3%A9mon_2.B.A._Master', 'Pokémon Theme': 'https://en.wikipedia.org/wiki/Pok%C3%A9mon_Theme', \"Gotta Catch 'Em All\": 'https://en.wikipedia.org/wiki/Gotta_Catch_%27Em_All_(song)', \"Meowth's Party\": 'https://en.wikipedia.org/wiki/Meowth%27s_Party', 'Te o Tsunagō': 'https://en.wikipedia.org/wiki/Te_o_Tsunag%C5%8D_/_Kindan_no_Karma', 'Takeshi Shudo': 'https://en.wikipedia.org/wiki/Takeshi_Shudo', 'OLM, Inc.': 'https://en.wikipedia.org/wiki/OLM,_Inc.', 'Pokémon Puzzle League': 'https://en.wikipedia.org/wiki/Pok%C3%A9mon_Puzzle_League', 'Pokémon Channel': 'https://en.wikipedia.org/wiki/Pok%C3%A9mon_Channel', 'films': 'https://en.wikipedia.org/wiki/List_of_Pok%C3%A9mon_films', 'The First Movie: Mewtwo Strikes Back': 'https://en.wikipedia.org/wiki/Pok%C3%A9mon:_The_First_Movie', 'soundtrack': 'https://en.wikipedia.org/wiki/Pok%C3%A9mon:_The_First_Movie_(soundtrack)', 'The Movie 2000: The Power of One': 'https://en.wikipedia.org/wiki/Pok%C3%A9mon:_The_Movie_2000', '3: The Movie - Spell of the Unown: Entei': 'https://en.wikipedia.org/wiki/Pok%C3%A9mon_3:_The_Movie', '4Ever – Celebi: The Voice of the Forest': 'https://en.wikipedia.org/wiki/Pok%C3%A9mon_4Ever', 'Heroes: Latios and Latias ': 'https://en.wikipedia.org/wiki/Pok%C3%A9mon_Heroes', 'Giratina & the Sky Warrior': 'https://en.wikipedia.org/wiki/Pok%C3%A9mon:_Giratina_%26_the_Sky_Warrior', 'Zoroark: Master of Illusions': 'https://en.wikipedia.org/wiki/Pok%C3%A9mon:_Zoroark:_Master_of_Illusions', 'Black — Victini and Reshiram & White — Victini and Zekrom': 'https://en.wikipedia.org/wiki/Pok%C3%A9mon_the_Movie:_Black%E2%80%94Victini_and_Reshiram_and_White%E2%80%94Victini_and_Zekrom', 'Mewtwo Strikes Back—Evolution': 'https://en.wikipedia.org/wiki/Pok%C3%A9mon:_Mewtwo_Strikes_Back%E2%80%94Evolution', \"Don't Say You Love Me\": 'https://en.wikipedia.org/wiki/Don%27t_Say_You_Love_Me_(M2M_song)', 'The Power of One': 'https://en.wikipedia.org/wiki/The_Power_of_One_(song)', 'Toi et Moi': 'https://en.wikipedia.org/wiki/Toi_et_Moi_(Namie_Amuro_song)', 'Flying Without Wings': 'https://en.wikipedia.org/wiki/Flying_Without_Wings', 'Sora/Koe': 'https://en.wikipedia.org/wiki/Sora/Koe', 'Carry On': 'https://en.wikipedia.org/wiki/Carry_On_(Kygo_and_Rita_Ora_song)', 'Portals': 'https://en.wikipedia.org/wiki/Wikipedia:Contents/Portals', 'Authority control': 'https://en.wikipedia.org/wiki/Help:Authority_control', 'VIAF': 'https://en.wikipedia.org/wiki/VIAF_(identifier)', 'MusicBrainz': 'https://en.wikipedia.org/wiki/MBA_(identifier)'}\n"
          ]
        },
        {
          "output_type": "stream",
          "name": "stderr",
          "text": [
            "100%|██████████| 640/640 [14:10<00:00,  1.33s/it]"
          ]
        },
        {
          "output_type": "stream",
          "name": "stdout",
          "text": [
            "a size of 429 content dictionary is built.\n"
          ]
        },
        {
          "output_type": "stream",
          "name": "stderr",
          "text": [
            "\n"
          ]
        }
      ]
    },
    {
      "cell_type": "code",
      "source": [
        "# Lastly, save your contents and corresponding title in a .csv file.\n",
        "import csv\n",
        "\n",
        "driveFolderDirectory = 'YOUR DIRECTORY HERE' # if your are not using Google Colab, edit the value directly here.\n",
        "savedFileName = 'wikiContents.csv'\n",
        "pathToSave = driveFolderDirectory + savedFileName\n",
        "\n",
        "with open(pathToSave, 'w', newline='') as csvfile:\n",
        "  fieldnames = ['idx','wikiTitle', 'wikiContents']\n",
        "  writer = csv.DictWriter(csvfile, fieldnames=fieldnames)\n",
        "  writer.writeheader()\n",
        "  for i,wikiContentKey in enumerate(pageDict.keys()):\n",
        "    writer.writerow({'idx': i, 'wikiTitle': wikiContentKey,'wikiContents': pageDict[wikiContentKey]})"
      ],
      "metadata": {
        "id": "ch1q__ZDe1WD"
      },
      "execution_count": null,
      "outputs": []
    },
    {
      "cell_type": "markdown",
      "source": [
        "Finally, let's use what we learn from scraping data in wikipedia webpages to scrap news from news websites, i.e. ABC news and Fox news.\n",
        "\n",
        "In this assignment, you need to get 100 news from each news source. The first thing to consider is to find out where we can get the 100 news URLs. If you've read the [article](https://www.learndatasci.com/tutorials/ultimate-guide-web-scraping-w-python-requests-and-beautifulsoup/) in the wikipedia section, you will know reading the robots.txt of each news website is very helpful. Take a look at the robots.txt from both ABC news and Fox News. You will see that sitemap contains news URLs in the format of XML. You could scrap these sitemaps by BeautifulSoup."
      ],
      "metadata": {
        "id": "7OMmbtL4PQUw"
      }
    },
    {
      "cell_type": "code",
      "source": [
        "import requests\n",
        "from bs4 import BeautifulSoup\n",
        "\n",
        "# def getPageFromWiki(url): # you may use the getPageFromWiki you implemented from the wikipedia section\n",
        "\n",
        "abcNewsSitemap = getPageFromWiki('https://abcnews.go.com/xmlLatestStories')\n",
        "\n",
        "# A similar one can be found in the Fox news robots.txt, here we will leave it to you to find out what the sitemap URL is.\n",
        "foxNewsSitemap = getPageFromWiki('') # FILL THE SITEMAP URL HERE.\n"
      ],
      "metadata": {
        "id": "srSjdrJT3YbZ"
      },
      "execution_count": null,
      "outputs": []
    },
    {
      "cell_type": "code",
      "source": [
        "# The next step is to get article URLs, you could do so by the 'select' function from BeautifulSoup, but since the roadmap is a .xml file,\n",
        "# Getting this is a little bit different from the wikipedia one. Regardless, the idea should be similar and it won't be too hard for you to find out how to do so.\n",
        "\n",
        "#Try getting 100 news URLs from the sitemap. \n",
        "\n",
        "def getUrlList(sitemap):\n",
        "  # This function should return a list of URLs of news contained in the sitemap page.\n",
        "  url_list = []\n",
        "\n",
        "  # IMPLEMENT YOUR CODE HERE: #\n",
        "\n",
        "  return url_list\n",
        "\n",
        "foxUrlList = []\n",
        "abcUrlList = []\n",
        "\n",
        "foxUrlList = getUrlList(foxNewsSitemap)\n",
        "abcUrlList = getUrlList(abcNewsSitemap)\n",
        "\n",
        "# Test here if the list contains the URLs you want.\n",
        "print(\"foxUrlList\",foxUrlList)\n",
        "print(\"abcUrlList\",abcUrlList)\n"
      ],
      "metadata": {
        "id": "IQZ-4isB63aq"
      },
      "execution_count": null,
      "outputs": []
    },
    {
      "cell_type": "markdown",
      "source": [
        "Once we got the URL list, we could start working on extracting the 'article' part of the news within these webpages. One way to do so is mimic the form from the Wikipedia section. Here we introduce a 'shortcut', using a library called 'newspaper' to help us with that. \n",
        "\n",
        "Please have a brief look at their Github Repository, it's very easy to use. We will leave the task of scraping the article part of the news from each URL using 'newspaper' to you, with a template below.\n",
        "\n",
        "The ABC/Fox news might contain less than 100 news in the sitemap page. Try refreshing the sitemap to get different ones until a number of 100 news are collected for each news source, or, try a different sitemap.\n",
        "\n",
        "Again, you may want to set up a delay every time you make a request to the news server."
      ],
      "metadata": {
        "id": "xfG0p-ygCqhb"
      }
    },
    {
      "cell_type": "code",
      "source": [
        "#install newspaper\n",
        "!pip install newspaper3k"
      ],
      "metadata": {
        "id": "gQ1hUYVHDKPk"
      },
      "execution_count": null,
      "outputs": []
    },
    {
      "cell_type": "code",
      "source": [
        "from newspaper import Article\n",
        "from tqdm import tqdm\n",
        "\n",
        "def getNewsDict(url_list):\n",
        "\n",
        "  # Your key should be the news title and value should be the article text of the news.\n",
        "  newsDict = {}\n",
        "  # IMPLEMENT YOUR CODE HERE:# \n",
        "  \n",
        "  return newsDict\n",
        "\n",
        "\n",
        "abcNews = getNewsDict(abcUrlList)\n",
        "foxNews = getNewsDict(foxUrlList)\n"
      ],
      "metadata": {
        "id": "h6-C0-4eCIsB"
      },
      "execution_count": null,
      "outputs": []
    },
    {
      "cell_type": "code",
      "source": [
        "#Lastly, write them down in a .csv file for both the abc and fox news. \n",
        "\n",
        "import csv\n",
        "\n",
        "driveFolderDirectory = 'YOUR DIRECTORY HERE' # if your are not using Google Colab, edit the value directly here.\n",
        "savedFileName = 'newsContents.csv'\n",
        "pathToSave = driveFolderDirectory + savedFileName\n",
        "\n",
        "# size check\n",
        "assert len(abcNews)>=100 and len(foxNews)>=100, \"the size of both news dictionary should be no less than 100. got {} for abc news and {} for fox news instead.\".format(len(abcNews),len(foxNews))\n",
        "\n",
        "with open(pathToSave, 'w', newline='') as csvfile:\n",
        "  fieldnames = ['idx','newsSource','newsTitle','newsContents']\n",
        "  writer = csv.DictWriter(csvfile, fieldnames=fieldnames)\n",
        "  writer.writeheader()\n",
        "  for i,newsDictKey in enumerate(abcNews.keys()):\n",
        "    writer.writerow({'idx': i,'newsSource':'ABCNews', 'newsTitle': newsDictKey,'newsContents': abcNews[newsDictKey]})\n",
        "  for i,newsDictKey in enumerate(foxNews.keys()):\n",
        "    writer.writerow({'idx': i,'newsSource':'FoxNews', 'newsTitle': newsDictKey,'newsContents': foxNews[newsDictKey]})"
      ],
      "metadata": {
        "id": "sxpqfTjy8nn1"
      },
      "execution_count": null,
      "outputs": []
    }
  ]
}